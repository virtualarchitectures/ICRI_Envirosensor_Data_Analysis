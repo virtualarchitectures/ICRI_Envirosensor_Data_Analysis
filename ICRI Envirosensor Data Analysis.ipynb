{
 "cells": [
  {
   "cell_type": "markdown",
   "metadata": {},
   "source": [
    "## ICRI Envirosensor Data Analysis"
   ]
  },
  {
   "cell_type": "markdown",
   "metadata": {},
   "source": [
    "#### Download dependencies"
   ]
  },
  {
   "cell_type": "code",
   "execution_count": 1,
   "metadata": {},
   "outputs": [],
   "source": [
    "#Import json\n",
    "import json\n",
    "\n",
    "#Import ijson to read large json files iteratively\n",
    "import ijson\n",
    "\n",
    "#Import Time module\n",
    "import time\n",
    "\n",
    "#Import numpy and pandas\n",
    "import numpy as np\n",
    "import pandas as pd\n",
    "\n",
    "#Import matplotlib for plotting graphs\n",
    "import matplotlib\n",
    "import matplotlib.pyplot as plt\n",
    "import matplotlib.dates as mdates\n",
    "\n",
    "#Import seaborn to to enhance visualisation\n",
    "import seaborn as sns\n",
    "\n",
    "#Import Apache Spark\n",
    "from pyspark.sql import SparkSession\n",
    "from pyspark.sql import *\n",
    "from pyspark.sql import functions\n",
    "\n",
    "from pyspark import SparkContext\n",
    "\n",
    "#Import relevant data types from pyspark schema definition\n",
    "from pyspark.sql.types import StructType, StructField, StringType, TimestampType"
   ]
  },
  {
   "cell_type": "markdown",
   "metadata": {},
   "source": [
    "#### Identify data location"
   ]
  },
  {
   "cell_type": "code",
   "execution_count": 77,
   "metadata": {},
   "outputs": [
    {
     "name": "stdout",
     "output_type": "stream",
     "text": [
      "data\\iotp_kfb22t_envirosensor_2018-w19.json\n"
     ]
    }
   ],
   "source": [
    "from os import path\n",
    "\n",
    "#In windows the 'r' preceding the file name string indcates that it is a raw sting so that slashes are interpreted correctly\n",
    "filename = path.expanduser(r'data\\iotp_kfb22t_envirosensor_2018-w19.json')\n",
    "\n",
    "#Test file\n",
    "#filename = path.expanduser(r'data\\Envirosensor_TEST.json')\n",
    "\n",
    "#Check that the name has been assigned to the variable correctly\n",
    "print(filename)"
   ]
  },
  {
   "cell_type": "markdown",
   "metadata": {},
   "source": [
    "#### Check file size in KB to ensure it can be loaded into memory"
   ]
  },
  {
   "cell_type": "code",
   "execution_count": 78,
   "metadata": {},
   "outputs": [
    {
     "data": {
      "text/plain": [
       "48006.8427734375"
      ]
     },
     "execution_count": 78,
     "metadata": {},
     "output_type": "execute_result"
    }
   ],
   "source": [
    "path.getsize(filename) / (1<<10)"
   ]
  },
  {
   "cell_type": "markdown",
   "metadata": {},
   "source": [
    "## Parse JSON"
   ]
  },
  {
   "cell_type": "markdown",
   "metadata": {},
   "source": [
    "#### Parse JSON data iteratively with ijson"
   ]
  },
  {
   "cell_type": "code",
   "execution_count": 79,
   "metadata": {},
   "outputs": [
    {
     "name": "stdout",
     "output_type": "stream",
     "text": [
      "\n",
      "Time to complete: 9.04s\n",
      "\n",
      "Total Sensor Payloads = 98024 \n",
      "\n",
      "Example Sensor Payload:\n",
      "\n",
      "{ \"DeviceID\": \"8015\", \"DeviceType\": \"Envirosensor\", \"Event\": \"event\", \"Time\": \"2018-05-11 20:53:39.181958\", \"Data\": { \"OPT\": \"4.57\", \"TMP\": \"34.437\", \"BAT\": \"34.76\", \"HDT\": \"34.62\", \"BAR\": \"1012.27\", \"HDH\": \"10.01\" } }\n"
     ]
    }
   ],
   "source": [
    "#Define function to iteratively parse json file\n",
    "def iterativeParse(json):\n",
    "    with open(json, 'r') as json_file:\n",
    "        #Use the items method in ijson to extract a list of objects specifying the file and key path to to the list\n",
    "        objects = ijson.items(json_file, 'item.data')\n",
    "        #The items fuction returns a generator which we turn into a list of payloads with the list function \n",
    "        parsedData = list(objects)\n",
    "\n",
    "    return parsedData\n",
    "\n",
    "#Time execution of the iterativeParse function and assign the result to payloads variable\n",
    "start = time.time()\n",
    "payloads = iterativeParse(filename)\n",
    "end = time.time()\n",
    "\n",
    "#Display time taken to complete process\n",
    "print(f'\\nTime to complete: {end - start:.2f}s\\n')\n",
    "\n",
    "#Count items in the payloads list\n",
    "print('Total Sensor Payloads =', len(payloads), '\\n')\n",
    "\n",
    "#Check the first item in the payloads list\n",
    "print('Example Sensor Payload:\\n')\n",
    "print(payloads[0])"
   ]
  },
  {
   "cell_type": "markdown",
   "metadata": {},
   "source": [
    "## Apache Spark"
   ]
  },
  {
   "cell_type": "markdown",
   "metadata": {},
   "source": [
    "#### Setup Apache Spark"
   ]
  },
  {
   "cell_type": "code",
   "execution_count": 80,
   "metadata": {},
   "outputs": [],
   "source": [
    "#Create a Spark session\n",
    "spark = SparkSession \\\n",
    "    .builder \\\n",
    "    .appName(\"Envirosensor Data Analysis\") \\\n",
    "    .getOrCreate()\n",
    "\n",
    "SparkContext.setSystemProperty('spark.executor.memory', '4g')"
   ]
  },
  {
   "cell_type": "code",
   "execution_count": 81,
   "metadata": {},
   "outputs": [
    {
     "data": {
      "text/html": [
       "\n",
       "            <div>\n",
       "                <p><b>SparkSession - in-memory</b></p>\n",
       "                \n",
       "        <div>\n",
       "            <p><b>SparkContext</b></p>\n",
       "\n",
       "            <p><a href=\"http://DESKTOP-5EVOSD4:4040\">Spark UI</a></p>\n",
       "\n",
       "            <dl>\n",
       "              <dt>Version</dt>\n",
       "                <dd><code>v2.4.3</code></dd>\n",
       "              <dt>Master</dt>\n",
       "                <dd><code>local[*]</code></dd>\n",
       "              <dt>AppName</dt>\n",
       "                <dd><code>Envirosensor Data Analysis</code></dd>\n",
       "            </dl>\n",
       "        </div>\n",
       "        \n",
       "            </div>\n",
       "        "
      ],
      "text/plain": [
       "<pyspark.sql.session.SparkSession at 0x1bd05f13cc0>"
      ]
     },
     "execution_count": 81,
     "metadata": {},
     "output_type": "execute_result"
    }
   ],
   "source": [
    "#Check Spark \n",
    "spark"
   ]
  },
  {
   "cell_type": "markdown",
   "metadata": {},
   "source": [
    "## Parse JSON Directly into Spark Dataframe"
   ]
  },
  {
   "cell_type": "markdown",
   "metadata": {},
   "source": [
    "#### Read JSON data directly into Apache Spark data frame"
   ]
  },
  {
   "cell_type": "code",
   "execution_count": 82,
   "metadata": {},
   "outputs": [
    {
     "name": "stdout",
     "output_type": "stream",
     "text": [
      "\n",
      "Time to complete: 0.28s\n",
      "\n"
     ]
    }
   ],
   "source": [
    "#Place JSON into a Spark dataframe and time execution\n",
    "start = time.time()\n",
    "df = spark.read.json(filename, multiLine=True)\n",
    "end = time.time()\n",
    "\n",
    "print(f'\\nTime to complete: {end - start:.2f}s\\n')"
   ]
  },
  {
   "cell_type": "markdown",
   "metadata": {},
   "source": [
    "#### Display the dataframe"
   ]
  },
  {
   "cell_type": "code",
   "execution_count": 83,
   "metadata": {},
   "outputs": [
    {
     "name": "stdout",
     "output_type": "stream",
     "text": [
      "+--------------------+--------+------------+---------+------+--------------------+--------------------+\n",
      "|                data|deviceId|  deviceType|eventType|format|    json_featuretype|           timestamp|\n",
      "+--------------------+--------+------------+---------+------+--------------------+--------------------+\n",
      "|{ \"DeviceID\": \"80...|    8015|Envirosensor|    event|  json|iotp_kfb22t_envir...|2018-05-11T20:53:...|\n",
      "|{ \"DeviceID\": \"80...|    8008|Envirosensor|    event|  json|iotp_kfb22t_envir...|2018-05-12T11:34:...|\n",
      "|{ \"DeviceID\": \"80...|    8004|Envirosensor|    event|  json|iotp_kfb22t_envir...|2018-05-10T20:04:...|\n",
      "|{ \"DeviceID\": \"80...|    8007|Envirosensor|    event|  json|iotp_kfb22t_envir...|2018-05-11T19:06:...|\n",
      "|{ \"DeviceID\": \"80...|    8015|Envirosensor|    event|  json|iotp_kfb22t_envir...|2018-05-11T10:16:...|\n",
      "+--------------------+--------+------------+---------+------+--------------------+--------------------+\n",
      "only showing top 5 rows\n",
      "\n"
     ]
    }
   ],
   "source": [
    "# Display the content of the DataFrame\n",
    "df.show(5)"
   ]
  },
  {
   "cell_type": "markdown",
   "metadata": {},
   "source": [
    "## Spark Resilient Distributed Datasets (RDD's)"
   ]
  },
  {
   "cell_type": "markdown",
   "metadata": {},
   "source": [
    "#### Establish sensor data payload schema by loading a sample into a data frame"
   ]
  },
  {
   "cell_type": "code",
   "execution_count": 84,
   "metadata": {},
   "outputs": [
    {
     "name": "stdout",
     "output_type": "stream",
     "text": [
      "['{ \"DeviceID\": \"8015\", \"DeviceType\": \"Envirosensor\", \"Event\": \"event\", \"Time\": \"2018-05-11 20:53:39.181958\", \"Data\": { \"OPT\": \"4.57\", \"TMP\": \"34.437\", \"BAT\": \"34.76\", \"HDT\": \"34.62\", \"BAR\": \"1012.27\", \"HDH\": \"10.01\" } }']\n",
      "\n",
      "Time to complete: 0.01s\n",
      "\n",
      "+--------------------------------------------+--------+------------+-----+--------------------------+\n",
      "|Data                                        |DeviceID|DeviceType  |Event|Time                      |\n",
      "+--------------------------------------------+--------+------------+-----+--------------------------+\n",
      "|[1012.27, 34.76, 10.01, 34.62, 4.57, 34.437]|8015    |Envirosensor|event|2018-05-11 20:53:39.181958|\n",
      "+--------------------------------------------+--------+------------+-----+--------------------------+\n",
      "\n",
      "root\n",
      " |-- Data: struct (nullable = true)\n",
      " |    |-- BAR: string (nullable = true)\n",
      " |    |-- BAT: string (nullable = true)\n",
      " |    |-- HDH: string (nullable = true)\n",
      " |    |-- HDT: string (nullable = true)\n",
      " |    |-- OPT: string (nullable = true)\n",
      " |    |-- TMP: string (nullable = true)\n",
      " |-- DeviceID: string (nullable = true)\n",
      " |-- DeviceType: string (nullable = true)\n",
      " |-- Event: string (nullable = true)\n",
      " |-- Time: string (nullable = true)\n",
      "\n"
     ]
    },
    {
     "data": {
      "text/plain": [
       "StructType(List(StructField(Data,StructType(List(StructField(BAR,StringType,true),StructField(BAT,StringType,true),StructField(HDH,StringType,true),StructField(HDT,StringType,true),StructField(OPT,StringType,true),StructField(TMP,StringType,true))),true),StructField(DeviceID,StringType,true),StructField(DeviceType,StringType,true),StructField(Event,StringType,true),StructField(Time,StringType,true)))"
      ]
     },
     "execution_count": 84,
     "metadata": {},
     "output_type": "execute_result"
    }
   ],
   "source": [
    "print(payloads[0:1])\n",
    "\n",
    "#Time execution of loading payloads into RDD's\n",
    "start = time.time()\n",
    "sc = spark.sparkContext\n",
    "testRDD = sc.parallelize(payloads[0:1],8)\n",
    "end = time.time()\n",
    "\n",
    "print(f'\\nTime to complete: {end - start:.2f}s\\n')\n",
    "\n",
    "test_df = spark.read.json(testRDD)\n",
    "\n",
    "test_df.show(5, False)\n",
    "\n",
    "test_df.printSchema()\n",
    "test_df.schema"
   ]
  },
  {
   "cell_type": "markdown",
   "metadata": {},
   "source": [
    "#### Build and store revised data schema"
   ]
  },
  {
   "cell_type": "code",
   "execution_count": 85,
   "metadata": {},
   "outputs": [],
   "source": [
    "#Build and return a schema to use for the sample data\n",
    "def build_schema():\n",
    "    \n",
    "    schema = test_df.schema\n",
    "    \n",
    "    return schema"
   ]
  },
  {
   "cell_type": "markdown",
   "metadata": {},
   "source": [
    "#### Load payloads into RDD's"
   ]
  },
  {
   "cell_type": "code",
   "execution_count": 86,
   "metadata": {},
   "outputs": [
    {
     "name": "stdout",
     "output_type": "stream",
     "text": [
      "\n",
      "Time to complete: 0.05s\n",
      "\n"
     ]
    }
   ],
   "source": [
    "#Time execution of loading payloads into RDD's\n",
    "start = time.time()\n",
    "sc = spark.sparkContext\n",
    "payloadsRDD = sc.parallelize(payloads,8)\n",
    "end = time.time()\n",
    "\n",
    "print(f'\\nTime to complete: {end - start:.2f}s\\n')"
   ]
  },
  {
   "cell_type": "markdown",
   "metadata": {},
   "source": [
    "#### Convert RDD to dataframe using data schema"
   ]
  },
  {
   "cell_type": "code",
   "execution_count": 87,
   "metadata": {},
   "outputs": [],
   "source": [
    "processedData = spark.read.json(payloadsRDD, schema=build_schema())"
   ]
  },
  {
   "cell_type": "markdown",
   "metadata": {},
   "source": [
    "#### Display the Spark Dataframe and schema"
   ]
  },
  {
   "cell_type": "code",
   "execution_count": 88,
   "metadata": {},
   "outputs": [
    {
     "name": "stdout",
     "output_type": "stream",
     "text": [
      "+---------------------------------------------+--------+------------+-----+--------------------------+\n",
      "|Data                                         |DeviceID|DeviceType  |Event|Time                      |\n",
      "+---------------------------------------------+--------+------------+-----+--------------------------+\n",
      "|[1012.27, 34.76, 10.01, 34.62, 4.57, 34.437] |8015    |Envirosensor|event|2018-05-11 20:53:39.181958|\n",
      "|[1011.63, 34.77, 15.80, 34.33, 6.25, 34.093] |8008    |Envirosensor|event|2018-05-12 11:34:07.296419|\n",
      "|[1016.71, 35.05, 6.09, 34.90, 6.67, 34.781]  |8004    |Envirosensor|event|2018-05-10 20:04:43.869317|\n",
      "|[1012.87, 36.69, 5.81, 36.63, 224.48, 36.468]|8007    |Envirosensor|event|2018-05-11 19:06:16.760284|\n",
      "|[1016.55, 34.13, 10.78, 33.99, 9.16, 33.781] |8015    |Envirosensor|event|2018-05-11 10:16:34.037201|\n",
      "+---------------------------------------------+--------+------------+-----+--------------------------+\n",
      "only showing top 5 rows\n",
      "\n",
      "root\n",
      " |-- Data: struct (nullable = true)\n",
      " |    |-- BAR: string (nullable = true)\n",
      " |    |-- BAT: string (nullable = true)\n",
      " |    |-- HDH: string (nullable = true)\n",
      " |    |-- HDT: string (nullable = true)\n",
      " |    |-- OPT: string (nullable = true)\n",
      " |    |-- TMP: string (nullable = true)\n",
      " |-- DeviceID: string (nullable = true)\n",
      " |-- DeviceType: string (nullable = true)\n",
      " |-- Event: string (nullable = true)\n",
      " |-- Time: string (nullable = true)\n",
      "\n"
     ]
    },
    {
     "data": {
      "text/plain": [
       "98024"
      ]
     },
     "execution_count": 88,
     "metadata": {},
     "output_type": "execute_result"
    }
   ],
   "source": [
    "processedData.show(5,False)\n",
    "\n",
    "processedData.printSchema()\n",
    "processedData.schema\n",
    "\n",
    "processedData.count()"
   ]
  },
  {
   "cell_type": "markdown",
   "metadata": {},
   "source": [
    "#### Flatten and reorder the Spark Dataframe"
   ]
  },
  {
   "cell_type": "code",
   "execution_count": 89,
   "metadata": {},
   "outputs": [],
   "source": [
    "flat_df = processedData.select(\n",
    "    \"DeviceType\",\n",
    "    \"DeviceID\",\n",
    "    \"Event\",\n",
    "    \"Time\",\n",
    "    \"Data.BAR\",\n",
    "    \"Data.BAT\",\n",
    "    \"Data.HDH\",\n",
    "    \"Data.HDT\",\n",
    "    \"Data.OPT\",\n",
    "    \"Data.TMP\"\n",
    ")"
   ]
  },
  {
   "cell_type": "markdown",
   "metadata": {},
   "source": [
    "#### Display the flattened dataframe"
   ]
  },
  {
   "cell_type": "code",
   "execution_count": 90,
   "metadata": {},
   "outputs": [
    {
     "name": "stdout",
     "output_type": "stream",
     "text": [
      "+------------+--------+-----+--------------------------+-------+-----+-----+-----+------+------+\n",
      "|DeviceType  |DeviceID|Event|Time                      |BAR    |BAT  |HDH  |HDT  |OPT   |TMP   |\n",
      "+------------+--------+-----+--------------------------+-------+-----+-----+-----+------+------+\n",
      "|Envirosensor|8015    |event|2018-05-11 20:53:39.181958|1012.27|34.76|10.01|34.62|4.57  |34.437|\n",
      "|Envirosensor|8008    |event|2018-05-12 11:34:07.296419|1011.63|34.77|15.80|34.33|6.25  |34.093|\n",
      "|Envirosensor|8004    |event|2018-05-10 20:04:43.869317|1016.71|35.05|6.09 |34.90|6.67  |34.781|\n",
      "|Envirosensor|8007    |event|2018-05-11 19:06:16.760284|1012.87|36.69|5.81 |36.63|224.48|36.468|\n",
      "|Envirosensor|8015    |event|2018-05-11 10:16:34.037201|1016.55|34.13|10.78|33.99|9.16  |33.781|\n",
      "+------------+--------+-----+--------------------------+-------+-----+-----+-----+------+------+\n",
      "only showing top 5 rows\n",
      "\n",
      "root\n",
      " |-- DeviceType: string (nullable = true)\n",
      " |-- DeviceID: string (nullable = true)\n",
      " |-- Event: string (nullable = true)\n",
      " |-- Time: string (nullable = true)\n",
      " |-- BAR: string (nullable = true)\n",
      " |-- BAT: string (nullable = true)\n",
      " |-- HDH: string (nullable = true)\n",
      " |-- HDT: string (nullable = true)\n",
      " |-- OPT: string (nullable = true)\n",
      " |-- TMP: string (nullable = true)\n",
      "\n"
     ]
    },
    {
     "data": {
      "text/plain": [
       "98024"
      ]
     },
     "execution_count": 90,
     "metadata": {},
     "output_type": "execute_result"
    }
   ],
   "source": [
    "flat_df.show(5,False)\n",
    "flat_df.printSchema()\n",
    "flat_df.schema\n",
    "\n",
    "flat_df.count()"
   ]
  },
  {
   "cell_type": "markdown",
   "metadata": {},
   "source": [
    "#### Convert datatypes and reorder"
   ]
  },
  {
   "cell_type": "code",
   "execution_count": 91,
   "metadata": {},
   "outputs": [],
   "source": [
    "flat_df = flat_df.select(\n",
    "    flat_df.DeviceType,\n",
    "    flat_df.DeviceID,\n",
    "    flat_df.Event,\n",
    "    flat_df.Time.cast(\"timestamp\"),\n",
    "    flat_df.BAR.cast(\"float\"),\n",
    "    flat_df.BAT.cast(\"float\"),\n",
    "    flat_df.HDH.cast(\"float\"),\n",
    "    flat_df.HDT.cast(\"float\"),\n",
    "    flat_df.OPT.cast(\"float\"),\n",
    "    flat_df.TMP.cast(\"float\"),\n",
    ")"
   ]
  },
  {
   "cell_type": "markdown",
   "metadata": {},
   "source": [
    "#### Check the datatype conversion"
   ]
  },
  {
   "cell_type": "code",
   "execution_count": 92,
   "metadata": {},
   "outputs": [
    {
     "name": "stdout",
     "output_type": "stream",
     "text": [
      "+------------+--------+-----+--------------------------+-------+-----+-----+-----+------+------+\n",
      "|DeviceType  |DeviceID|Event|Time                      |BAR    |BAT  |HDH  |HDT  |OPT   |TMP   |\n",
      "+------------+--------+-----+--------------------------+-------+-----+-----+-----+------+------+\n",
      "|Envirosensor|8015    |event|2018-05-11 20:53:39.181958|1012.27|34.76|10.01|34.62|4.57  |34.437|\n",
      "|Envirosensor|8008    |event|2018-05-12 11:34:07.296419|1011.63|34.77|15.8 |34.33|6.25  |34.093|\n",
      "|Envirosensor|8004    |event|2018-05-10 20:04:43.869317|1016.71|35.05|6.09 |34.9 |6.67  |34.781|\n",
      "|Envirosensor|8007    |event|2018-05-11 19:06:16.760284|1012.87|36.69|5.81 |36.63|224.48|36.468|\n",
      "|Envirosensor|8015    |event|2018-05-11 10:16:34.037201|1016.55|34.13|10.78|33.99|9.16  |33.781|\n",
      "+------------+--------+-----+--------------------------+-------+-----+-----+-----+------+------+\n",
      "only showing top 5 rows\n",
      "\n",
      "root\n",
      " |-- DeviceType: string (nullable = true)\n",
      " |-- DeviceID: string (nullable = true)\n",
      " |-- Event: string (nullable = true)\n",
      " |-- Time: timestamp (nullable = true)\n",
      " |-- BAR: float (nullable = true)\n",
      " |-- BAT: float (nullable = true)\n",
      " |-- HDH: float (nullable = true)\n",
      " |-- HDT: float (nullable = true)\n",
      " |-- OPT: float (nullable = true)\n",
      " |-- TMP: float (nullable = true)\n",
      "\n"
     ]
    },
    {
     "data": {
      "text/plain": [
       "98024"
      ]
     },
     "execution_count": 92,
     "metadata": {},
     "output_type": "execute_result"
    }
   ],
   "source": [
    "flat_df.show(5,False)\n",
    "flat_df.printSchema()\n",
    "flat_df.schema\n",
    "\n",
    "flat_df.count()"
   ]
  },
  {
   "cell_type": "markdown",
   "metadata": {},
   "source": [
    "## Display Summary Statistics"
   ]
  },
  {
   "cell_type": "code",
   "execution_count": 93,
   "metadata": {},
   "outputs": [
    {
     "name": "stdout",
     "output_type": "stream",
     "text": [
      "+-------+------------+-----------------+-----+\n",
      "|summary|  DeviceType|         DeviceID|Event|\n",
      "+-------+------------+-----------------+-----+\n",
      "|  count|       98024|            98024|98024|\n",
      "|   mean|        null|8009.819840039174| null|\n",
      "| stddev|        null|5.618286811938404| null|\n",
      "|    min|Envirosensor|             8001|event|\n",
      "|    max|Envirosensor|             8019|event|\n",
      "+-------+------------+-----------------+-----+\n",
      "\n",
      "+-------+------------------+------------------+------------------+------------------+------------------+------------------+\n",
      "|summary|               BAR|               BAT|               HDH|               HDT|               OPT|               TMP|\n",
      "+-------+------------------+------------------+------------------+------------------+------------------+------------------+\n",
      "|  count|             97442|             98022|             97985|             98011|             97891|             98020|\n",
      "|   mean| 1013.620281670237|  34.9874885178126|11.352910029443484| 34.75921528315863|61.187677192359466|34.521656132970286|\n",
      "| stddev|2.8348094440194167|0.9549442248357881|3.0855673823588696|0.9430239816178312| 67.17383435502444|0.9481049848540656|\n",
      "|    min|           1006.34|             31.77|              3.74|             31.62|               0.0|            31.562|\n",
      "|    max|           1019.85|             37.27|             21.15|             37.22|            318.72|            37.031|\n",
      "+-------+------------------+------------------+------------------+------------------+------------------+------------------+\n",
      "\n"
     ]
    }
   ],
   "source": [
    "flat_df.describe('DeviceType', 'DeviceID', 'Event', 'Time').show()\n",
    "flat_df.describe('BAR', 'BAT', 'HDH', 'HDT', 'OPT', 'TMP').show()"
   ]
  },
  {
   "cell_type": "markdown",
   "metadata": {},
   "source": [
    "#### Count of Sensor Observations per Device"
   ]
  },
  {
   "cell_type": "code",
   "execution_count": 94,
   "metadata": {},
   "outputs": [
    {
     "name": "stdout",
     "output_type": "stream",
     "text": [
      "+--------+-----+\n",
      "|DeviceID|count|\n",
      "+--------+-----+\n",
      "|    8001| 5749|\n",
      "|    8002| 5748|\n",
      "|    8003| 5276|\n",
      "|    8004| 5747|\n",
      "|    8005| 5745|\n",
      "|    8006| 5749|\n",
      "|    8007| 5748|\n",
      "|    8008| 5748|\n",
      "|    8010| 5750|\n",
      "|    8011| 5745|\n",
      "|    8012| 5749|\n",
      "|    8013| 5273|\n",
      "|    8014| 4801|\n",
      "|    8015| 5745|\n",
      "|    8016| 2446|\n",
      "|    8017| 5513|\n",
      "|    8018| 5746|\n",
      "|    8019| 5746|\n",
      "+--------+-----+\n",
      "\n"
     ]
    }
   ],
   "source": [
    "flat_df.sort('DeviceID').groupBy('DeviceID').count().show()"
   ]
  },
  {
   "cell_type": "markdown",
   "metadata": {},
   "source": [
    "## Summary by Device"
   ]
  },
  {
   "cell_type": "markdown",
   "metadata": {},
   "source": [
    "#### Filter results by Device"
   ]
  },
  {
   "cell_type": "code",
   "execution_count": 95,
   "metadata": {},
   "outputs": [],
   "source": [
    "sensor_df = flat_df.filter(flat_df[\"DeviceID\"]==\"8001\")"
   ]
  },
  {
   "cell_type": "markdown",
   "metadata": {},
   "source": [
    "#### Display summary for sensor"
   ]
  },
  {
   "cell_type": "code",
   "execution_count": 96,
   "metadata": {},
   "outputs": [
    {
     "name": "stdout",
     "output_type": "stream",
     "text": [
      "+-------+------------+--------------------+-----+\n",
      "|summary|  DeviceType|            DeviceID|Event|\n",
      "+-------+------------+--------------------+-----+\n",
      "|  count|        5749|                5749| 5749|\n",
      "|   mean|        null|              8001.0| null|\n",
      "| stddev|        null|2.276108937398238...| null|\n",
      "|    min|Envirosensor|                8001|event|\n",
      "|    max|Envirosensor|                8001|event|\n",
      "+-------+------------+--------------------+-----+\n",
      "\n",
      "+-------+------------------+-------------------+------------------+------------------+-----------------+------------------+\n",
      "|summary|               BAR|                BAT|               HDH|               HDT|              OPT|               TMP|\n",
      "+-------+------------------+-------------------+------------------+------------------+-----------------+------------------+\n",
      "|  count|              5723|               5749|              5748|              5749|             5741|              5749|\n",
      "|   mean|1013.5567008922843| 35.289359867894184|13.789218781304674| 34.94388058314553|15.77491215434645| 34.72870180399071|\n",
      "| stddev|2.7687530126762865|0.34070972705216657|2.6369022838063887|0.3384182921920782|37.06432054133787|0.3414681948753617|\n",
      "|    min|           1007.22|               34.6|              8.92|             34.27|             0.64|            34.062|\n",
      "|    max|           1018.88|               36.3|             18.47|             35.95|           127.36|            35.718|\n",
      "+-------+------------------+-------------------+------------------+------------------+-----------------+------------------+\n",
      "\n"
     ]
    }
   ],
   "source": [
    "sensor_df.describe('DeviceType', 'DeviceID', 'Event', 'Time').show()\n",
    "sensor_df.describe('BAR', 'BAT', 'HDH', 'HDT', 'OPT', 'TMP').show()"
   ]
  },
  {
   "cell_type": "markdown",
   "metadata": {},
   "source": [
    "#### Display sorted sensor readings"
   ]
  },
  {
   "cell_type": "code",
   "execution_count": 97,
   "metadata": {},
   "outputs": [
    {
     "name": "stdout",
     "output_type": "stream",
     "text": [
      "+------------+--------+-----+--------------------------+-------+-----+-----+-----+----+-----+\n",
      "|DeviceType  |DeviceID|Event|Time                      |BAR    |BAT  |HDH  |HDT  |OPT |TMP  |\n",
      "+------------+--------+-----+--------------------------+-------+-----+-----+-----+----+-----+\n",
      "|Envirosensor|8001    |event|2018-05-10 00:09:17.997009|1007.56|35.32|16.01|34.95|2.41|34.75|\n",
      "|Envirosensor|8001    |event|2018-05-10 00:10:17.998182|1007.52|35.31|16.01|34.95|0.64|34.75|\n",
      "|Envirosensor|8001    |event|2018-05-10 00:11:18.007436|1007.56|35.31|16.01|34.95|0.64|34.75|\n",
      "|Envirosensor|8001    |event|2018-05-10 00:12:18.056274|1007.49|35.3 |16.01|34.95|1.68|34.75|\n",
      "|Envirosensor|8001    |event|2018-05-10 00:13:18.055641|1007.52|35.31|16.01|34.97|2.41|34.75|\n",
      "|Envirosensor|8001    |event|2018-05-10 00:14:18.060749|1007.52|35.32|16.01|34.97|2.41|34.75|\n",
      "|Envirosensor|8001    |event|2018-05-10 00:15:18.059554|1007.55|35.31|16.01|34.97|0.64|34.75|\n",
      "|Envirosensor|8001    |event|2018-05-10 00:16:18.064541|1007.43|35.31|16.01|34.95|0.64|34.75|\n",
      "|Envirosensor|8001    |event|2018-05-10 00:17:18.063854|1007.48|35.33|16.01|34.95|2.41|34.75|\n",
      "|Envirosensor|8001    |event|2018-05-10 00:18:18.069358|1007.56|35.32|16.01|34.95|2.41|34.75|\n",
      "+------------+--------+-----+--------------------------+-------+-----+-----+-----+----+-----+\n",
      "only showing top 10 rows\n",
      "\n"
     ]
    }
   ],
   "source": [
    "sensor_df.sort('Time').show(10,False)"
   ]
  },
  {
   "cell_type": "markdown",
   "metadata": {},
   "source": [
    "## Spark SQL Analysis"
   ]
  },
  {
   "cell_type": "markdown",
   "metadata": {},
   "source": [
    "#### Create temporary view of sensor readings"
   ]
  },
  {
   "cell_type": "code",
   "execution_count": 98,
   "metadata": {},
   "outputs": [],
   "source": [
    "flat_df.createOrReplaceTempView(\"sensorReadings\")"
   ]
  },
  {
   "cell_type": "markdown",
   "metadata": {},
   "source": [
    "#### Create a dataframe for that view"
   ]
  },
  {
   "cell_type": "code",
   "execution_count": 99,
   "metadata": {},
   "outputs": [],
   "source": [
    "df_sql = spark.sql(\"SELECT * FROM sensorReadings LIMIT 10\")"
   ]
  },
  {
   "cell_type": "markdown",
   "metadata": {},
   "source": [
    "#### Show dataframe"
   ]
  },
  {
   "cell_type": "code",
   "execution_count": 100,
   "metadata": {},
   "outputs": [
    {
     "name": "stdout",
     "output_type": "stream",
     "text": [
      "+------------+--------+-----+--------------------------+-------+-----+-----+-----+------+------+\n",
      "|DeviceType  |DeviceID|Event|Time                      |BAR    |BAT  |HDH  |HDT  |OPT   |TMP   |\n",
      "+------------+--------+-----+--------------------------+-------+-----+-----+-----+------+------+\n",
      "|Envirosensor|8015    |event|2018-05-11 20:53:39.181958|1012.27|34.76|10.01|34.62|4.57  |34.437|\n",
      "|Envirosensor|8008    |event|2018-05-12 11:34:07.296419|1011.63|34.77|15.8 |34.33|6.25  |34.093|\n",
      "|Envirosensor|8004    |event|2018-05-10 20:04:43.869317|1016.71|35.05|6.09 |34.9 |6.67  |34.781|\n",
      "|Envirosensor|8007    |event|2018-05-11 19:06:16.760284|1012.87|36.69|5.81 |36.63|224.48|36.468|\n",
      "|Envirosensor|8015    |event|2018-05-11 10:16:34.037201|1016.55|34.13|10.78|33.99|9.16  |33.781|\n",
      "|Envirosensor|8017    |event|2018-05-12 10:29:41.851239|1012.51|33.26|18.01|33.01|7.84  |32.812|\n",
      "|Envirosensor|8005    |event|2018-05-13 11:40:05.670075|1014.26|34.43|14.91|34.09|124.48|33.843|\n",
      "|Envirosensor|8010    |event|2018-05-13 15:07:41.109431|1014.8 |35.52|14.16|35.27|10.28 |35.125|\n",
      "|Envirosensor|8014    |event|2018-05-13 18:20:57.530148|1015.53|34.71|11.38|34.32|128.08|34.093|\n",
      "|Envirosensor|8018    |event|2018-05-11 15:38:41.457063|1013.35|34.5 |6.97 |34.31|146.72|33.968|\n",
      "+------------+--------+-----+--------------------------+-------+-----+-----+-----+------+------+\n",
      "\n"
     ]
    }
   ],
   "source": [
    "df_sql.show(10, False)"
   ]
  },
  {
   "cell_type": "markdown",
   "metadata": {},
   "source": [
    "#### Count of Sensor Observations per Device"
   ]
  },
  {
   "cell_type": "code",
   "execution_count": 101,
   "metadata": {
    "scrolled": true
   },
   "outputs": [
    {
     "name": "stdout",
     "output_type": "stream",
     "text": [
      "+--------+-----+\n",
      "|DeviceID|count|\n",
      "+--------+-----+\n",
      "|    8001| 5749|\n",
      "|    8002| 5748|\n",
      "|    8003| 5276|\n",
      "|    8004| 5747|\n",
      "|    8005| 5745|\n",
      "|    8006| 5749|\n",
      "|    8007| 5748|\n",
      "|    8008| 5748|\n",
      "|    8010| 5750|\n",
      "|    8011| 5745|\n",
      "|    8012| 5749|\n",
      "|    8013| 5273|\n",
      "|    8014| 4801|\n",
      "|    8015| 5745|\n",
      "|    8016| 2446|\n",
      "|    8017| 5513|\n",
      "|    8018| 5746|\n",
      "|    8019| 5746|\n",
      "+--------+-----+\n",
      "\n"
     ]
    }
   ],
   "source": [
    "df_sql = spark.sql(\"SELECT DeviceID, COUNT(*) AS count FROM sensorReadings GROUP BY DeviceID ORDER BY DeviceID\")\n",
    "df_sql.show()"
   ]
  },
  {
   "cell_type": "markdown",
   "metadata": {},
   "source": [
    "#### Convert to Pandas dataframe for visualisation"
   ]
  },
  {
   "cell_type": "code",
   "execution_count": 102,
   "metadata": {},
   "outputs": [
    {
     "data": {
      "text/html": [
       "<div>\n",
       "<style scoped>\n",
       "    .dataframe tbody tr th:only-of-type {\n",
       "        vertical-align: middle;\n",
       "    }\n",
       "\n",
       "    .dataframe tbody tr th {\n",
       "        vertical-align: top;\n",
       "    }\n",
       "\n",
       "    .dataframe thead th {\n",
       "        text-align: right;\n",
       "    }\n",
       "</style>\n",
       "<table border=\"1\" class=\"dataframe\">\n",
       "  <thead>\n",
       "    <tr style=\"text-align: right;\">\n",
       "      <th></th>\n",
       "      <th>DeviceID</th>\n",
       "      <th>count</th>\n",
       "    </tr>\n",
       "  </thead>\n",
       "  <tbody>\n",
       "    <tr>\n",
       "      <th>0</th>\n",
       "      <td>8001</td>\n",
       "      <td>5749</td>\n",
       "    </tr>\n",
       "    <tr>\n",
       "      <th>1</th>\n",
       "      <td>8002</td>\n",
       "      <td>5748</td>\n",
       "    </tr>\n",
       "    <tr>\n",
       "      <th>2</th>\n",
       "      <td>8003</td>\n",
       "      <td>5276</td>\n",
       "    </tr>\n",
       "    <tr>\n",
       "      <th>3</th>\n",
       "      <td>8004</td>\n",
       "      <td>5747</td>\n",
       "    </tr>\n",
       "    <tr>\n",
       "      <th>4</th>\n",
       "      <td>8005</td>\n",
       "      <td>5745</td>\n",
       "    </tr>\n",
       "    <tr>\n",
       "      <th>5</th>\n",
       "      <td>8006</td>\n",
       "      <td>5749</td>\n",
       "    </tr>\n",
       "    <tr>\n",
       "      <th>6</th>\n",
       "      <td>8007</td>\n",
       "      <td>5748</td>\n",
       "    </tr>\n",
       "    <tr>\n",
       "      <th>7</th>\n",
       "      <td>8008</td>\n",
       "      <td>5748</td>\n",
       "    </tr>\n",
       "    <tr>\n",
       "      <th>8</th>\n",
       "      <td>8010</td>\n",
       "      <td>5750</td>\n",
       "    </tr>\n",
       "    <tr>\n",
       "      <th>9</th>\n",
       "      <td>8011</td>\n",
       "      <td>5745</td>\n",
       "    </tr>\n",
       "    <tr>\n",
       "      <th>10</th>\n",
       "      <td>8012</td>\n",
       "      <td>5749</td>\n",
       "    </tr>\n",
       "    <tr>\n",
       "      <th>11</th>\n",
       "      <td>8013</td>\n",
       "      <td>5273</td>\n",
       "    </tr>\n",
       "    <tr>\n",
       "      <th>12</th>\n",
       "      <td>8014</td>\n",
       "      <td>4801</td>\n",
       "    </tr>\n",
       "    <tr>\n",
       "      <th>13</th>\n",
       "      <td>8015</td>\n",
       "      <td>5745</td>\n",
       "    </tr>\n",
       "    <tr>\n",
       "      <th>14</th>\n",
       "      <td>8016</td>\n",
       "      <td>2446</td>\n",
       "    </tr>\n",
       "    <tr>\n",
       "      <th>15</th>\n",
       "      <td>8017</td>\n",
       "      <td>5513</td>\n",
       "    </tr>\n",
       "    <tr>\n",
       "      <th>16</th>\n",
       "      <td>8018</td>\n",
       "      <td>5746</td>\n",
       "    </tr>\n",
       "    <tr>\n",
       "      <th>17</th>\n",
       "      <td>8019</td>\n",
       "      <td>5746</td>\n",
       "    </tr>\n",
       "  </tbody>\n",
       "</table>\n",
       "</div>"
      ],
      "text/plain": [
       "   DeviceID  count\n",
       "0      8001   5749\n",
       "1      8002   5748\n",
       "2      8003   5276\n",
       "3      8004   5747\n",
       "4      8005   5745\n",
       "5      8006   5749\n",
       "6      8007   5748\n",
       "7      8008   5748\n",
       "8      8010   5750\n",
       "9      8011   5745\n",
       "10     8012   5749\n",
       "11     8013   5273\n",
       "12     8014   4801\n",
       "13     8015   5745\n",
       "14     8016   2446\n",
       "15     8017   5513\n",
       "16     8018   5746\n",
       "17     8019   5746"
      ]
     },
     "execution_count": 102,
     "metadata": {},
     "output_type": "execute_result"
    }
   ],
   "source": [
    "visual_df = df_sql.toPandas()\n",
    "visual_df"
   ]
  },
  {
   "cell_type": "markdown",
   "metadata": {},
   "source": [
    "## Plot Count of Sensor Observations"
   ]
  },
  {
   "cell_type": "markdown",
   "metadata": {},
   "source": [
    "#### Set matplotlib visualisation parameters for all plots"
   ]
  },
  {
   "cell_type": "code",
   "execution_count": 103,
   "metadata": {},
   "outputs": [],
   "source": [
    "# Use %matplotlib for output plots to appear inline in the Jupyter notebook\n",
    "%matplotlib inline\n",
    "\n",
    "# Set the default figure size for all inline plots (must be used after %matplotlib)\n",
    "plt.rcParams['figure.figsize'] = [16, 8]"
   ]
  },
  {
   "cell_type": "markdown",
   "metadata": {},
   "source": [
    "#### Plot data with matplotlib"
   ]
  },
  {
   "cell_type": "code",
   "execution_count": 104,
   "metadata": {},
   "outputs": [
    {
     "data": {
      "text/plain": [
       "Text(0.5, 1.0, 'Number of Sensor Observations by Sensor')"
      ]
     },
     "execution_count": 104,
     "metadata": {},
     "output_type": "execute_result"
    },
    {
     "data": {
      "image/png": "[encoded data removed]",
      "text/plain": [
       "<Figure size 1152x576 with 1 Axes>"
      ]
     },
     "metadata": {
      "needs_background": "light"
     },
     "output_type": "display_data"
    }
   ],
   "source": [
    "# Plot horizontal bar chart\n",
    "visual_df.plot(kind='barh',x='DeviceID', y='count')\n",
    "plt.xticks(rotation=60)\n",
    "plt.ylabel(\"DeviceID\")\n",
    "plt.xlabel(\"Number of Sensor Observations\")\n",
    "plt.title(\"Number of Sensor Observations by Sensor\")"
   ]
  },
  {
   "cell_type": "markdown",
   "metadata": {},
   "source": [
    "#### Plot data with Pandas"
   ]
  },
  {
   "cell_type": "code",
   "execution_count": 105,
   "metadata": {},
   "outputs": [
    {
     "data": {
      "image/png": "[encoded data removed]",
      "text/plain": [
       "<Figure size 1152x576 with 1 Axes>"
      ]
     },
     "metadata": {
      "needs_background": "light"
     },
     "output_type": "display_data"
    }
   ],
   "source": [
    "# Plotting directly from DataFrames with Pandas\n",
    "visual_df.plot(\n",
    "    x='DeviceID', \n",
    "    y='count', \n",
    "    kind='barh', \n",
    "    legend=False, \n",
    "    color='darkblue',\n",
    "    width=0.5,\n",
    "    alpha=0.5\n",
    ")\n",
    "# The plot is now created, and we use Matplotlib style\n",
    "# commands to enhance the output.\n",
    "plt.xticks(rotation=60)\n",
    "plt.ylabel(\"DeviceID\")\n",
    "plt.xlabel(\"Number of Sensor Observations\")\n",
    "plt.title(\"Number of Sensor Observations by Sensor\")\n",
    "plt.gca().yaxis.grid(linestyle=':')"
   ]
  },
  {
   "cell_type": "markdown",
   "metadata": {},
   "source": [
    "#### Plot data with Seaborn"
   ]
  },
  {
   "cell_type": "code",
   "execution_count": 106,
   "metadata": {},
   "outputs": [
    {
     "data": {
      "text/plain": [
       "Text(0.5, 1.0, 'Number of Sensor Observations by Sensor')"
      ]
     },
     "execution_count": 106,
     "metadata": {},
     "output_type": "execute_result"
    },
    {
     "data": {
      "image/png": "[encoded data removed]",
      "text/plain": [
       "<Figure size 1152x576 with 1 Axes>"
      ]
     },
     "metadata": {},
     "output_type": "display_data"
    }
   ],
   "source": [
    "#Set aesthetic parameters\n",
    "sns.set()\n",
    "\n",
    "sns.barplot(\n",
    "    x='count',\n",
    "    y='DeviceID',\n",
    "    orient='h',\n",
    "    color='blue',\n",
    "    alpha=0.5,\n",
    "    data=visual_df,\n",
    "    linewidth=2\n",
    ")\n",
    "\n",
    "plt.xticks(rotation=60)\n",
    "plt.ylabel(\"Device ID\")\n",
    "plt.xlabel(\"Number of Sensor Observations\")\n",
    "plt.title(\"Number of Sensor Observations by Sensor\")"
   ]
  },
  {
   "cell_type": "markdown",
   "metadata": {},
   "source": [
    "## Plot Sensor Observations by Device"
   ]
  },
  {
   "cell_type": "markdown",
   "metadata": {},
   "source": [
    "#### Create temporary view"
   ]
  },
  {
   "cell_type": "code",
   "execution_count": 107,
   "metadata": {},
   "outputs": [],
   "source": [
    "sensor_df.createOrReplaceTempView(\"sensorReadingsByDevice\")"
   ]
  },
  {
   "cell_type": "markdown",
   "metadata": {},
   "source": [
    "#### Create time ordered datframe for that view"
   ]
  },
  {
   "cell_type": "code",
   "execution_count": 108,
   "metadata": {},
   "outputs": [],
   "source": [
    "df_sql = spark.sql(\"SELECT * FROM sensorReadingsByDevice ORDER BY Time\")"
   ]
  },
  {
   "cell_type": "markdown",
   "metadata": {},
   "source": [
    "#### Show dataframe"
   ]
  },
  {
   "cell_type": "code",
   "execution_count": 109,
   "metadata": {},
   "outputs": [
    {
     "name": "stdout",
     "output_type": "stream",
     "text": [
      "+------------+--------+-----+--------------------------+-------+-----+-----+-----+----+-----+\n",
      "|DeviceType  |DeviceID|Event|Time                      |BAR    |BAT  |HDH  |HDT  |OPT |TMP  |\n",
      "+------------+--------+-----+--------------------------+-------+-----+-----+-----+----+-----+\n",
      "|Envirosensor|8001    |event|2018-05-10 00:09:17.997009|1007.56|35.32|16.01|34.95|2.41|34.75|\n",
      "|Envirosensor|8001    |event|2018-05-10 00:10:17.998182|1007.52|35.31|16.01|34.95|0.64|34.75|\n",
      "|Envirosensor|8001    |event|2018-05-10 00:11:18.007436|1007.56|35.31|16.01|34.95|0.64|34.75|\n",
      "|Envirosensor|8001    |event|2018-05-10 00:12:18.056274|1007.49|35.3 |16.01|34.95|1.68|34.75|\n",
      "|Envirosensor|8001    |event|2018-05-10 00:13:18.055641|1007.52|35.31|16.01|34.97|2.41|34.75|\n",
      "|Envirosensor|8001    |event|2018-05-10 00:14:18.060749|1007.52|35.32|16.01|34.97|2.41|34.75|\n",
      "|Envirosensor|8001    |event|2018-05-10 00:15:18.059554|1007.55|35.31|16.01|34.97|0.64|34.75|\n",
      "|Envirosensor|8001    |event|2018-05-10 00:16:18.064541|1007.43|35.31|16.01|34.95|0.64|34.75|\n",
      "|Envirosensor|8001    |event|2018-05-10 00:17:18.063854|1007.48|35.33|16.01|34.95|2.41|34.75|\n",
      "|Envirosensor|8001    |event|2018-05-10 00:18:18.069358|1007.56|35.32|16.01|34.95|2.41|34.75|\n",
      "+------------+--------+-----+--------------------------+-------+-----+-----+-----+----+-----+\n",
      "only showing top 10 rows\n",
      "\n",
      "root\n",
      " |-- DeviceType: string (nullable = true)\n",
      " |-- DeviceID: string (nullable = true)\n",
      " |-- Event: string (nullable = true)\n",
      " |-- Time: timestamp (nullable = true)\n",
      " |-- BAR: float (nullable = true)\n",
      " |-- BAT: float (nullable = true)\n",
      " |-- HDH: float (nullable = true)\n",
      " |-- HDT: float (nullable = true)\n",
      " |-- OPT: float (nullable = true)\n",
      " |-- TMP: float (nullable = true)\n",
      "\n"
     ]
    }
   ],
   "source": [
    "df_sql.show(10, False)\n",
    "df_sql.printSchema()"
   ]
  },
  {
   "cell_type": "markdown",
   "metadata": {},
   "source": [
    "#### Convert to Pandas dataframe for visualisation"
   ]
  },
  {
   "cell_type": "code",
   "execution_count": 110,
   "metadata": {},
   "outputs": [
    {
     "data": {
      "text/html": [
       "<div>\n",
       "<style scoped>\n",
       "    .dataframe tbody tr th:only-of-type {\n",
       "        vertical-align: middle;\n",
       "    }\n",
       "\n",
       "    .dataframe tbody tr th {\n",
       "        vertical-align: top;\n",
       "    }\n",
       "\n",
       "    .dataframe thead th {\n",
       "        text-align: right;\n",
       "    }\n",
       "</style>\n",
       "<table border=\"1\" class=\"dataframe\">\n",
       "  <thead>\n",
       "    <tr style=\"text-align: right;\">\n",
       "      <th></th>\n",
       "      <th>DeviceType</th>\n",
       "      <th>DeviceID</th>\n",
       "      <th>Event</th>\n",
       "      <th>Time</th>\n",
       "      <th>BAR</th>\n",
       "      <th>BAT</th>\n",
       "      <th>HDH</th>\n",
       "      <th>HDT</th>\n",
       "      <th>OPT</th>\n",
       "      <th>TMP</th>\n",
       "    </tr>\n",
       "  </thead>\n",
       "  <tbody>\n",
       "    <tr>\n",
       "      <th>5739</th>\n",
       "      <td>Envirosensor</td>\n",
       "      <td>8001</td>\n",
       "      <td>event</td>\n",
       "      <td>2018-05-13 23:50:01.980418</td>\n",
       "      <td>1017.099976</td>\n",
       "      <td>36.270000</td>\n",
       "      <td>14.27</td>\n",
       "      <td>35.919998</td>\n",
       "      <td>0.64</td>\n",
       "      <td>35.717999</td>\n",
       "    </tr>\n",
       "    <tr>\n",
       "      <th>5740</th>\n",
       "      <td>Envirosensor</td>\n",
       "      <td>8001</td>\n",
       "      <td>event</td>\n",
       "      <td>2018-05-13 23:51:01.992669</td>\n",
       "      <td>1017.070007</td>\n",
       "      <td>36.270000</td>\n",
       "      <td>14.27</td>\n",
       "      <td>35.919998</td>\n",
       "      <td>0.64</td>\n",
       "      <td>35.717999</td>\n",
       "    </tr>\n",
       "    <tr>\n",
       "      <th>5741</th>\n",
       "      <td>Envirosensor</td>\n",
       "      <td>8001</td>\n",
       "      <td>event</td>\n",
       "      <td>2018-05-13 23:52:02.032711</td>\n",
       "      <td>1017.099976</td>\n",
       "      <td>36.270000</td>\n",
       "      <td>14.27</td>\n",
       "      <td>35.919998</td>\n",
       "      <td>2.33</td>\n",
       "      <td>35.717999</td>\n",
       "    </tr>\n",
       "    <tr>\n",
       "      <th>5742</th>\n",
       "      <td>Envirosensor</td>\n",
       "      <td>8001</td>\n",
       "      <td>event</td>\n",
       "      <td>2018-05-13 23:53:02.042184</td>\n",
       "      <td>1017.099976</td>\n",
       "      <td>36.270000</td>\n",
       "      <td>14.27</td>\n",
       "      <td>35.930000</td>\n",
       "      <td>2.33</td>\n",
       "      <td>35.717999</td>\n",
       "    </tr>\n",
       "    <tr>\n",
       "      <th>5743</th>\n",
       "      <td>Envirosensor</td>\n",
       "      <td>8001</td>\n",
       "      <td>event</td>\n",
       "      <td>2018-05-13 23:54:02.047335</td>\n",
       "      <td>1017.049988</td>\n",
       "      <td>36.259998</td>\n",
       "      <td>14.27</td>\n",
       "      <td>35.930000</td>\n",
       "      <td>0.64</td>\n",
       "      <td>35.717999</td>\n",
       "    </tr>\n",
       "    <tr>\n",
       "      <th>5744</th>\n",
       "      <td>Envirosensor</td>\n",
       "      <td>8001</td>\n",
       "      <td>event</td>\n",
       "      <td>2018-05-13 23:55:02.046217</td>\n",
       "      <td>1017.099976</td>\n",
       "      <td>36.279999</td>\n",
       "      <td>14.27</td>\n",
       "      <td>35.919998</td>\n",
       "      <td>0.64</td>\n",
       "      <td>35.717999</td>\n",
       "    </tr>\n",
       "    <tr>\n",
       "      <th>5745</th>\n",
       "      <td>Envirosensor</td>\n",
       "      <td>8001</td>\n",
       "      <td>event</td>\n",
       "      <td>2018-05-13 23:56:02.051960</td>\n",
       "      <td>1017.070007</td>\n",
       "      <td>36.279999</td>\n",
       "      <td>14.27</td>\n",
       "      <td>35.919998</td>\n",
       "      <td>2.33</td>\n",
       "      <td>35.717999</td>\n",
       "    </tr>\n",
       "    <tr>\n",
       "      <th>5746</th>\n",
       "      <td>Envirosensor</td>\n",
       "      <td>8001</td>\n",
       "      <td>event</td>\n",
       "      <td>2018-05-13 23:57:02.047814</td>\n",
       "      <td>1017.150024</td>\n",
       "      <td>36.279999</td>\n",
       "      <td>14.27</td>\n",
       "      <td>35.919998</td>\n",
       "      <td>2.33</td>\n",
       "      <td>35.717999</td>\n",
       "    </tr>\n",
       "    <tr>\n",
       "      <th>5747</th>\n",
       "      <td>Envirosensor</td>\n",
       "      <td>8001</td>\n",
       "      <td>event</td>\n",
       "      <td>2018-05-13 23:58:02.056039</td>\n",
       "      <td>1017.049988</td>\n",
       "      <td>36.270000</td>\n",
       "      <td>14.27</td>\n",
       "      <td>35.919998</td>\n",
       "      <td>1.60</td>\n",
       "      <td>35.717999</td>\n",
       "    </tr>\n",
       "    <tr>\n",
       "      <th>5748</th>\n",
       "      <td>Envirosensor</td>\n",
       "      <td>8001</td>\n",
       "      <td>event</td>\n",
       "      <td>2018-05-13 23:59:02.052810</td>\n",
       "      <td>1017.070007</td>\n",
       "      <td>36.270000</td>\n",
       "      <td>14.27</td>\n",
       "      <td>35.930000</td>\n",
       "      <td>0.64</td>\n",
       "      <td>35.717999</td>\n",
       "    </tr>\n",
       "  </tbody>\n",
       "</table>\n",
       "</div>"
      ],
      "text/plain": [
       "        DeviceType DeviceID  Event                       Time          BAR  \\\n",
       "5739  Envirosensor     8001  event 2018-05-13 23:50:01.980418  1017.099976   \n",
       "5740  Envirosensor     8001  event 2018-05-13 23:51:01.992669  1017.070007   \n",
       "5741  Envirosensor     8001  event 2018-05-13 23:52:02.032711  1017.099976   \n",
       "5742  Envirosensor     8001  event 2018-05-13 23:53:02.042184  1017.099976   \n",
       "5743  Envirosensor     8001  event 2018-05-13 23:54:02.047335  1017.049988   \n",
       "5744  Envirosensor     8001  event 2018-05-13 23:55:02.046217  1017.099976   \n",
       "5745  Envirosensor     8001  event 2018-05-13 23:56:02.051960  1017.070007   \n",
       "5746  Envirosensor     8001  event 2018-05-13 23:57:02.047814  1017.150024   \n",
       "5747  Envirosensor     8001  event 2018-05-13 23:58:02.056039  1017.049988   \n",
       "5748  Envirosensor     8001  event 2018-05-13 23:59:02.052810  1017.070007   \n",
       "\n",
       "            BAT    HDH        HDT   OPT        TMP  \n",
       "5739  36.270000  14.27  35.919998  0.64  35.717999  \n",
       "5740  36.270000  14.27  35.919998  0.64  35.717999  \n",
       "5741  36.270000  14.27  35.919998  2.33  35.717999  \n",
       "5742  36.270000  14.27  35.930000  2.33  35.717999  \n",
       "5743  36.259998  14.27  35.930000  0.64  35.717999  \n",
       "5744  36.279999  14.27  35.919998  0.64  35.717999  \n",
       "5745  36.279999  14.27  35.919998  2.33  35.717999  \n",
       "5746  36.279999  14.27  35.919998  2.33  35.717999  \n",
       "5747  36.270000  14.27  35.919998  1.60  35.717999  \n",
       "5748  36.270000  14.27  35.930000  0.64  35.717999  "
      ]
     },
     "execution_count": 110,
     "metadata": {},
     "output_type": "execute_result"
    }
   ],
   "source": [
    "visual_df = df_sql.toPandas()\n",
    "visual_df.head(10)\n",
    "visual_df.tail(10)"
   ]
  },
  {
   "cell_type": "markdown",
   "metadata": {},
   "source": [
    "#### Plot time series with matplotlib"
   ]
  },
  {
   "cell_type": "code",
   "execution_count": 111,
   "metadata": {},
   "outputs": [
    {
     "data": {
      "text/plain": [
       "Text(0.5, 1.0, 'Sensor Time Series')"
      ]
     },
     "execution_count": 111,
     "metadata": {},
     "output_type": "execute_result"
    },
    {
     "data": {
      "image/png": "[encoded data removed]",
      "text/plain": [
       "<Figure size 1152x576 with 1 Axes>"
      ]
     },
     "metadata": {},
     "output_type": "display_data"
    }
   ],
   "source": [
    "#Locate and format dates for X axis \n",
    "days = mdates.DayLocator()\n",
    "days_fmt = mdates.DateFormatter('%D')\n",
    "\n",
    "#Store current axis to layer plots\n",
    "ax = plt.gca()\n",
    "\n",
    "#Format the ticks\n",
    "ax.xaxis.set_major_locator(days)\n",
    "ax.xaxis.set_major_formatter(days_fmt)\n",
    "ax.xaxis.set_minor_locator(hours)\n",
    "\n",
    "#visual_df.plot(kind='line',x='Time', y='BAR', ax=ax)\n",
    "visual_df.plot(kind='line',x='Time', y='BAT', ax=ax)\n",
    "visual_df.plot(kind='line',x='Time', y='HDH', ax=ax)\n",
    "visual_df.plot(kind='line',x='Time', y='HDT', ax=ax)\n",
    "#visual_df.plot(kind='line',x='Time', y='OPT', ax=ax)\n",
    "visual_df.plot(kind='line',x='Time', y='TMP', ax=ax)\n",
    "\n",
    "plt.xticks(rotation=60)\n",
    "plt.ylabel(\"Sensor Readings\")\n",
    "plt.xlabel(\"Time\")\n",
    "plt.title(\"Sensor Time Series\")"
   ]
  },
  {
   "cell_type": "code",
   "execution_count": null,
   "metadata": {},
   "outputs": [],
   "source": []
  }
 ],
 "metadata": {
  "kernelspec": {
   "display_name": "Python 3",
   "language": "python",
   "name": "python3"
  },
  "language_info": {
   "codemirror_mode": {
    "name": "ipython",
    "version": 3
   },
   "file_extension": ".py",
   "mimetype": "text/x-python",
   "name": "python",
   "nbconvert_exporter": "python",
   "pygments_lexer": "ipython3",
   "version": "3.7.3"
  }
 },
 "nbformat": 4,
 "nbformat_minor": 2
}
