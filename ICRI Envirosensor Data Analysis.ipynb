{
 "cells": [
  {
   "cell_type": "markdown",
   "metadata": {},
   "source": [
    "## ICRI Envirosensor Data Analysis"
   ]
  },
  {
   "cell_type": "markdown",
   "metadata": {},
   "source": [
    "#### Download dependencies"
   ]
  },
  {
   "cell_type": "code",
   "execution_count": 1,
   "metadata": {},
   "outputs": [],
   "source": [
    "#Import json\n",
    "import json\n",
    "\n",
    "#Import ijson to read large json files iteratively\n",
    "import ijson\n",
    "\n",
    "#Import Time module\n",
    "import time\n",
    "\n",
    "#Import Apache Spark\n",
    "from pyspark.sql import SparkSession\n",
    "from pyspark.sql import *\n",
    "from pyspark.sql import functions\n",
    "\n",
    "from pyspark import SparkContext\n",
    "\n",
    "#Import relevant data types from pyspark schema definition\n",
    "from pyspark.sql.types import StructType, StructField, StringType, TimestampType"
   ]
  },
  {
   "cell_type": "markdown",
   "metadata": {},
   "source": [
    "#### Identify data location"
   ]
  },
  {
   "cell_type": "code",
   "execution_count": 35,
   "metadata": {},
   "outputs": [
    {
     "name": "stdout",
     "output_type": "stream",
     "text": [
      "data\\iotp_kfb22t_envirosensor_2018-w20.json\n"
     ]
    }
   ],
   "source": [
    "from os import path\n",
    "\n",
    "#In windows the 'r' preceding the file name string indcates that it is a raw sting so that slashes are interpreted correctly\n",
    "#filename = path.expanduser(r'data\\here_east_envirosensors.json')\n",
    "\n",
    "#Test file\n",
    "#filename = path.expanduser(r'data\\Envirosensor_TEST.json')\n",
    "\n",
    "filename = path.expanduser(r'data\\iotp_kfb22t_envirosensor_2018-w19.json')\n",
    "\n",
    "#Check that the name has been assigned to the variable correctly\n",
    "print(filename)"
   ]
  },
  {
   "cell_type": "markdown",
   "metadata": {},
   "source": [
    "#### Check file size in KB to ensure it can be loaded into memory"
   ]
  },
  {
   "cell_type": "code",
   "execution_count": 36,
   "metadata": {},
   "outputs": [
    {
     "data": {
      "text/plain": [
       "83830.802734375"
      ]
     },
     "execution_count": 36,
     "metadata": {},
     "output_type": "execute_result"
    }
   ],
   "source": [
    "path.getsize(filename) / (1<<10)"
   ]
  },
  {
   "cell_type": "markdown",
   "metadata": {},
   "source": [
    "## Parse JSON"
   ]
  },
  {
   "cell_type": "markdown",
   "metadata": {},
   "source": [
    "#### Parse JSON data iteratively with ijson"
   ]
  },
  {
   "cell_type": "code",
   "execution_count": 37,
   "metadata": {},
   "outputs": [
    {
     "name": "stdout",
     "output_type": "stream",
     "text": [
      "\n",
      "Time to complete: 15.09s\n",
      "\n",
      "Total Sensor Payloads = 171144 \n",
      "\n",
      "Example Sensor Payload:\n",
      "\n",
      "{ \"DeviceID\": \"8003\", \"DeviceType\": \"Envirosensor\", \"Event\": \"event\", \"Time\": \"2018-05-19 07:08:07.329146\", \"Data\": { \"OPT\": \"47.88\", \"TMP\": \"34.343\", \"BAT\": \"34.79\", \"HDT\": \"34.60\", \"BAR\": \"1024.65\", \"HDH\": \"11.68\" } }\n"
     ]
    }
   ],
   "source": [
    "#Define function to iteratively parse json file\n",
    "def iterativeParse(json):\n",
    "    with open(json, 'r') as json_file:\n",
    "        #Use the items method in ijson to extract a list of objects specifying the file and key path to to the list\n",
    "        objects = ijson.items(json_file, 'item.data')\n",
    "        #The items fuction returns a generator which we turn into a list of payloads with the list function \n",
    "        parsedData = list(objects)\n",
    "\n",
    "    return parsedData\n",
    "\n",
    "#Time execution of the iterativeParse function and assign the result to payloads variable\n",
    "start = time.time()\n",
    "payloads = iterativeParse(filename)\n",
    "end = time.time()\n",
    "\n",
    "#Display time taken to complete process\n",
    "print(f'\\nTime to complete: {end - start:.2f}s\\n')\n",
    "\n",
    "#Count items in the payloads list\n",
    "print('Total Sensor Payloads =', len(payloads), '\\n')\n",
    "\n",
    "#Check the first item in the payloads list\n",
    "print('Example Sensor Payload:\\n')\n",
    "print(payloads[0])"
   ]
  },
  {
   "cell_type": "markdown",
   "metadata": {},
   "source": [
    "## Apache Spark"
   ]
  },
  {
   "cell_type": "markdown",
   "metadata": {},
   "source": [
    "#### Setup Apache Spark"
   ]
  },
  {
   "cell_type": "code",
   "execution_count": 38,
   "metadata": {},
   "outputs": [],
   "source": [
    "#Create a Spark session\n",
    "spark = SparkSession.builder.appName(\"Envirosensor Data Analysis\").getOrCreate()\n",
    "\n",
    "SparkContext.setSystemProperty('spark.executor.memory', '4g')"
   ]
  },
  {
   "cell_type": "code",
   "execution_count": 39,
   "metadata": {},
   "outputs": [
    {
     "data": {
      "text/html": [
       "\n",
       "            <div>\n",
       "                <p><b>SparkSession - in-memory</b></p>\n",
       "                \n",
       "        <div>\n",
       "            <p><b>SparkContext</b></p>\n",
       "\n",
       "            <p><a href=\"http://DESKTOP-5EVOSD4:4040\">Spark UI</a></p>\n",
       "\n",
       "            <dl>\n",
       "              <dt>Version</dt>\n",
       "                <dd><code>v2.4.3</code></dd>\n",
       "              <dt>Master</dt>\n",
       "                <dd><code>local[*]</code></dd>\n",
       "              <dt>AppName</dt>\n",
       "                <dd><code>Envirosensor Data Analysis</code></dd>\n",
       "            </dl>\n",
       "        </div>\n",
       "        \n",
       "            </div>\n",
       "        "
      ],
      "text/plain": [
       "<pyspark.sql.session.SparkSession at 0x25c9a9cc898>"
      ]
     },
     "execution_count": 39,
     "metadata": {},
     "output_type": "execute_result"
    }
   ],
   "source": [
    "#Check Spark \n",
    "spark"
   ]
  },
  {
   "cell_type": "markdown",
   "metadata": {},
   "source": [
    "## Parse JSON Directly into Spark Dataframe"
   ]
  },
  {
   "cell_type": "markdown",
   "metadata": {},
   "source": [
    "#### Read JSON data directly into Apache Spark data frame"
   ]
  },
  {
   "cell_type": "code",
   "execution_count": 40,
   "metadata": {},
   "outputs": [
    {
     "name": "stdout",
     "output_type": "stream",
     "text": [
      "\n",
      "Time to complete: 0.39s\n",
      "\n"
     ]
    }
   ],
   "source": [
    "#Place JSON into a Spark dataframe and time execution\n",
    "start = time.time()\n",
    "df = spark.read.json(filename, multiLine=True)\n",
    "end = time.time()\n",
    "\n",
    "print(f'\\nTime to complete: {end - start:.2f}s\\n')"
   ]
  },
  {
   "cell_type": "markdown",
   "metadata": {},
   "source": [
    "#### Display the dataframe"
   ]
  },
  {
   "cell_type": "code",
   "execution_count": 41,
   "metadata": {},
   "outputs": [
    {
     "name": "stdout",
     "output_type": "stream",
     "text": [
      "+--------------------+--------+------------+---------+------+--------------------+--------------------+\n",
      "|                data|deviceId|  deviceType|eventType|format|    json_featuretype|           timestamp|\n",
      "+--------------------+--------+------------+---------+------+--------------------+--------------------+\n",
      "|{ \"DeviceID\": \"80...|    8003|Envirosensor|    event|  json|iotp_kfb22t_envir...|2018-05-19T07:08:...|\n",
      "|{ \"DeviceID\": \"80...|    8015|Envirosensor|    event|  json|iotp_kfb22t_envir...|2018-05-17T08:50:...|\n",
      "|{ \"DeviceID\": \"80...|    8004|Envirosensor|    event|  json|iotp_kfb22t_envir...|2018-05-18T15:23:...|\n",
      "|{ \"DeviceID\": \"80...|    8018|Envirosensor|    event|  json|iotp_kfb22t_envir...|2018-05-14T01:16:...|\n",
      "|{ \"DeviceID\": \"80...|    8018|Envirosensor|    event|  json|iotp_kfb22t_envir...|2018-05-14T17:15:...|\n",
      "+--------------------+--------+------------+---------+------+--------------------+--------------------+\n",
      "only showing top 5 rows\n",
      "\n"
     ]
    }
   ],
   "source": [
    "# Display the content of the DataFrame\n",
    "df.show(5)"
   ]
  },
  {
   "cell_type": "markdown",
   "metadata": {},
   "source": [
    "## Spark Resilient Distributed Datasets (RDD's)"
   ]
  },
  {
   "cell_type": "markdown",
   "metadata": {},
   "source": [
    "#### Establish sensor data payload schema by loading a sample into a data frame"
   ]
  },
  {
   "cell_type": "code",
   "execution_count": 42,
   "metadata": {},
   "outputs": [
    {
     "name": "stdout",
     "output_type": "stream",
     "text": [
      "['{ \"DeviceID\": \"8003\", \"DeviceType\": \"Envirosensor\", \"Event\": \"event\", \"Time\": \"2018-05-19 07:08:07.329146\", \"Data\": { \"OPT\": \"47.88\", \"TMP\": \"34.343\", \"BAT\": \"34.79\", \"HDT\": \"34.60\", \"BAR\": \"1024.65\", \"HDH\": \"11.68\" } }']\n",
      "\n",
      "Time to complete: 0.01s\n",
      "\n",
      "+---------------------------------------------+--------+------------+-----+--------------------------+\n",
      "|Data                                         |DeviceID|DeviceType  |Event|Time                      |\n",
      "+---------------------------------------------+--------+------------+-----+--------------------------+\n",
      "|[1024.65, 34.79, 11.68, 34.60, 47.88, 34.343]|8003    |Envirosensor|event|2018-05-19 07:08:07.329146|\n",
      "+---------------------------------------------+--------+------------+-----+--------------------------+\n",
      "\n",
      "root\n",
      " |-- Data: struct (nullable = true)\n",
      " |    |-- BAR: string (nullable = true)\n",
      " |    |-- BAT: string (nullable = true)\n",
      " |    |-- HDH: string (nullable = true)\n",
      " |    |-- HDT: string (nullable = true)\n",
      " |    |-- OPT: string (nullable = true)\n",
      " |    |-- TMP: string (nullable = true)\n",
      " |-- DeviceID: string (nullable = true)\n",
      " |-- DeviceType: string (nullable = true)\n",
      " |-- Event: string (nullable = true)\n",
      " |-- Time: string (nullable = true)\n",
      "\n"
     ]
    },
    {
     "data": {
      "text/plain": [
       "StructType(List(StructField(Data,StructType(List(StructField(BAR,StringType,true),StructField(BAT,StringType,true),StructField(HDH,StringType,true),StructField(HDT,StringType,true),StructField(OPT,StringType,true),StructField(TMP,StringType,true))),true),StructField(DeviceID,StringType,true),StructField(DeviceType,StringType,true),StructField(Event,StringType,true),StructField(Time,StringType,true)))"
      ]
     },
     "execution_count": 42,
     "metadata": {},
     "output_type": "execute_result"
    }
   ],
   "source": [
    "print(payloads[0:1])\n",
    "\n",
    "#Time execution of loading payloads into RDD's\n",
    "start = time.time()\n",
    "sc = spark.sparkContext\n",
    "testRDD = sc.parallelize(payloads[0:1],8)\n",
    "end = time.time()\n",
    "\n",
    "print(f'\\nTime to complete: {end - start:.2f}s\\n')\n",
    "\n",
    "test_df = spark.read.json(testRDD)\n",
    "\n",
    "test_df.show(5, False)\n",
    "\n",
    "test_df.printSchema()\n",
    "test_df.schema"
   ]
  },
  {
   "cell_type": "markdown",
   "metadata": {},
   "source": [
    "#### Build and store the data schema"
   ]
  },
  {
   "cell_type": "code",
   "execution_count": 43,
   "metadata": {},
   "outputs": [],
   "source": [
    "#Build and return a schema to use for the sample data\n",
    "def build_schema():\n",
    "    \n",
    "    schema = test_df.schema\n",
    "    \n",
    "    return schema"
   ]
  },
  {
   "cell_type": "markdown",
   "metadata": {},
   "source": [
    "#### Load payloads into RDD's"
   ]
  },
  {
   "cell_type": "code",
   "execution_count": 44,
   "metadata": {},
   "outputs": [
    {
     "name": "stdout",
     "output_type": "stream",
     "text": [
      "\n",
      "Time to complete: 0.09s\n",
      "\n"
     ]
    }
   ],
   "source": [
    "#Time execution of loading payloads into RDD's\n",
    "start = time.time()\n",
    "sc = spark.sparkContext\n",
    "payloadsRDD = sc.parallelize(payloads,8)\n",
    "end = time.time()\n",
    "\n",
    "print(f'\\nTime to complete: {end - start:.2f}s\\n')"
   ]
  },
  {
   "cell_type": "markdown",
   "metadata": {},
   "source": [
    "#### Convert RDD to dataframe using data schema"
   ]
  },
  {
   "cell_type": "code",
   "execution_count": 45,
   "metadata": {},
   "outputs": [],
   "source": [
    "processedData = spark.read.json(payloadsRDD, schema=build_schema())"
   ]
  },
  {
   "cell_type": "markdown",
   "metadata": {},
   "source": [
    "#### Display the Spark Dataframe"
   ]
  },
  {
   "cell_type": "code",
   "execution_count": 47,
   "metadata": {},
   "outputs": [
    {
     "name": "stdout",
     "output_type": "stream",
     "text": [
      "+---------------------------------------------+--------+------------+-----+--------------------------+\n",
      "|Data                                         |DeviceID|DeviceType  |Event|Time                      |\n",
      "+---------------------------------------------+--------+------------+-----+--------------------------+\n",
      "|[1024.65, 34.79, 11.68, 34.60, 47.88, 34.343]|8003    |Envirosensor|event|2018-05-19 07:08:07.329146|\n",
      "|[1027.47, 34.52, 11.18, 34.36, 5.70, 34.156] |8015    |Envirosensor|event|2018-05-17 08:50:42.519376|\n",
      "|[1023.23, 34.77, 6.57, 34.67, 7.15, 34.531]  |8004    |Envirosensor|event|2018-05-18 15:23:13.753004|\n",
      "|[1017.18, 36.80, 8.17, 36.56, 0.08, 36.250]  |8018    |Envirosensor|event|2018-05-14 01:16:08.350742|\n",
      "|[1018.68, 34.50, 9.42, 34.31, 84.96, 33.968] |8018    |Envirosensor|event|2018-05-14 17:15:15.889760|\n",
      "+---------------------------------------------+--------+------------+-----+--------------------------+\n",
      "only showing top 5 rows\n",
      "\n"
     ]
    }
   ],
   "source": [
    "processedData.show(5,False)"
   ]
  },
  {
   "cell_type": "code",
   "execution_count": 48,
   "metadata": {},
   "outputs": [
    {
     "data": {
      "text/plain": [
       "171144"
      ]
     },
     "execution_count": 48,
     "metadata": {},
     "output_type": "execute_result"
    }
   ],
   "source": [
    "processedData.count() "
   ]
  },
  {
   "cell_type": "code",
   "execution_count": 49,
   "metadata": {},
   "outputs": [
    {
     "name": "stdout",
     "output_type": "stream",
     "text": [
      "\n",
      "Time to complete: 0.02s\n",
      "\n"
     ]
    }
   ],
   "source": [
    "start = time.time()\n",
    "flat_df = processedData.select(\"DeviceType\", \"DeviceID\", \"Event\", \"Time\", \"Data.BAR\", \"Data.BAT\", \"Data.HDH\", \"Data.HDT\", \"Data.OPT\", \"Data.TMP\")\n",
    "#flat_df.show(5,False)\n",
    "end = time.time()\n",
    "\n",
    "print(f'\\nTime to complete: {end - start:.2f}s\\n')"
   ]
  },
  {
   "cell_type": "code",
   "execution_count": 50,
   "metadata": {},
   "outputs": [
    {
     "data": {
      "text/plain": [
       "171144"
      ]
     },
     "execution_count": 50,
     "metadata": {},
     "output_type": "execute_result"
    }
   ],
   "source": [
    "flat_df.count()"
   ]
  },
  {
   "cell_type": "code",
   "execution_count": 51,
   "metadata": {},
   "outputs": [
    {
     "name": "stdout",
     "output_type": "stream",
     "text": [
      "root\n",
      " |-- DeviceType: string (nullable = true)\n",
      " |-- DeviceID: string (nullable = true)\n",
      " |-- Event: string (nullable = true)\n",
      " |-- Time: string (nullable = true)\n",
      " |-- BAR: string (nullable = true)\n",
      " |-- BAT: string (nullable = true)\n",
      " |-- HDH: string (nullable = true)\n",
      " |-- HDT: string (nullable = true)\n",
      " |-- OPT: string (nullable = true)\n",
      " |-- TMP: string (nullable = true)\n",
      "\n"
     ]
    },
    {
     "data": {
      "text/plain": [
       "StructType(List(StructField(DeviceType,StringType,true),StructField(DeviceID,StringType,true),StructField(Event,StringType,true),StructField(Time,StringType,true),StructField(BAR,StringType,true),StructField(BAT,StringType,true),StructField(HDH,StringType,true),StructField(HDT,StringType,true),StructField(OPT,StringType,true),StructField(TMP,StringType,true)))"
      ]
     },
     "execution_count": 51,
     "metadata": {},
     "output_type": "execute_result"
    }
   ],
   "source": [
    "flat_df.printSchema()\n",
    "flat_df.schema"
   ]
  },
  {
   "cell_type": "markdown",
   "metadata": {},
   "source": [
    "## Display Summary Statistics"
   ]
  },
  {
   "cell_type": "code",
   "execution_count": 110,
   "metadata": {},
   "outputs": [
    {
     "name": "stdout",
     "output_type": "stream",
     "text": [
      "+-------+------------+------------------+------+--------------------+\n",
      "|summary|  DeviceType|          DeviceID| Event|                Time|\n",
      "+-------+------------+------------------+------+--------------------+\n",
      "|  count|      171144|            171144|171144|              171144|\n",
      "|   mean|        null|8009.8408299443745|  null|                null|\n",
      "| stddev|        null| 5.603288143194462|  null|                null|\n",
      "|    min|Envirosensor|              8001| event|2018-05-11 16:27:...|\n",
      "|    max|Envirosensor|              8019| event|2018-05-20 23:59:...|\n",
      "+-------+------------+------------------+------+--------------------+\n",
      "\n",
      "+-------+------------------+------------------+------------------+------------------+-----------------+------------------+\n",
      "|summary|               BAR|               BAT|               HDH|               HDT|              OPT|               TMP|\n",
      "+-------+------------------+------------------+------------------+------------------+-----------------+------------------+\n",
      "|  count|            170792|            171144|            171079|            171122|           170966|            171137|\n",
      "|   mean|1022.7912086297107| 35.05296471371857|10.987092312189478| 34.82701905207166|68.83449965776072| 34.58801055294611|\n",
      "| stddev| 2.979036109595173|0.9908651004778256|2.7325737027875276|0.9832620977272993|71.95917286259413|0.9909122058082861|\n",
      "|    min|           1016.11|             22.05|             10.00|             22.16|             0.00|            21.937|\n",
      "|    max|               BAR|             37.78|               BAR|               BAR|              BAR|            37.531|\n",
      "+-------+------------------+------------------+------------------+------------------+-----------------+------------------+\n",
      "\n"
     ]
    }
   ],
   "source": [
    "flat_df.describe('DeviceType', 'DeviceID', 'Event', 'Time').show()\n",
    "flat_df.describe('BAR', 'BAT', 'HDH', 'HDT', 'OPT', 'TMP').show()"
   ]
  },
  {
   "cell_type": "markdown",
   "metadata": {},
   "source": [
    "## Analyse by Device"
   ]
  },
  {
   "cell_type": "markdown",
   "metadata": {},
   "source": [
    "#### Filter results by Device"
   ]
  },
  {
   "cell_type": "code",
   "execution_count": 113,
   "metadata": {},
   "outputs": [],
   "source": [
    "sensor_df = flat_df.filter(flat_df[\"DeviceID\"]==\"8001\")"
   ]
  },
  {
   "cell_type": "markdown",
   "metadata": {},
   "source": [
    "#### Display summary for sensor"
   ]
  },
  {
   "cell_type": "code",
   "execution_count": 114,
   "metadata": {},
   "outputs": [
    {
     "name": "stdout",
     "output_type": "stream",
     "text": [
      "+-------+------------+--------------------+-----+--------------------+\n",
      "|summary|  DeviceType|            DeviceID|Event|                Time|\n",
      "+-------+------------+--------------------+-----+--------------------+\n",
      "|  count|       10077|               10077|10077|               10077|\n",
      "|   mean|        null|              8001.0| null|                null|\n",
      "| stddev|        null|2.280485101424363...| null|                null|\n",
      "|    min|Envirosensor|                8001|event|2018-05-14 00:00:...|\n",
      "|    max|Envirosensor|                8001|event|2018-05-20 23:59:...|\n",
      "+-------+------------+--------------------+-----+--------------------+\n",
      "\n",
      "+-------+------------------+------------------+------------------+-------------------+------------------+------------------+\n",
      "|summary|               BAR|               BAT|               HDH|                HDT|               OPT|               TMP|\n",
      "+-------+------------------+------------------+------------------+-------------------+------------------+------------------+\n",
      "|  count|             10071|             10077|             10077|              10077|             10072|             10077|\n",
      "|   mean|1022.6317039912414| 35.28036221097551|  13.0686206212166| 34.939914657140044|12.371021745606127| 34.72448585888688|\n",
      "| stddev| 2.916554721265008|0.4117063295835615|1.9652465111043933|0.40811628855345405| 31.47005127147742|0.4114437324129879|\n",
      "|    min|           1017.01|             34.31|             10.01|              34.00|              0.64|            33.781|\n",
      "|    max|               BAR|             36.73|              9.91|              36.38|             97.76|            36.156|\n",
      "+-------+------------------+------------------+------------------+-------------------+------------------+------------------+\n",
      "\n"
     ]
    }
   ],
   "source": [
    "sensor_df.describe('DeviceType', 'DeviceID', 'Event', 'Time').show()\n",
    "sensor_df.describe('BAR', 'BAT', 'HDH', 'HDT', 'OPT', 'TMP').show()"
   ]
  },
  {
   "cell_type": "markdown",
   "metadata": {},
   "source": [
    "#### Display sorted sensor readings"
   ]
  },
  {
   "cell_type": "code",
   "execution_count": 115,
   "metadata": {},
   "outputs": [
    {
     "name": "stdout",
     "output_type": "stream",
     "text": [
      "+------------+--------+-----+--------------------------+-------+-----+-----+-----+----+------+\n",
      "|DeviceType  |DeviceID|Event|Time                      |BAR    |BAT  |HDH  |HDT  |OPT |TMP   |\n",
      "+------------+--------+-----+--------------------------+-------+-----+-----+-----+----+------+\n",
      "|Envirosensor|8001    |event|2018-05-14 00:00:02.060920|1017.05|36.27|14.27|35.92|0.64|35.718|\n",
      "|Envirosensor|8001    |event|2018-05-14 00:01:02.059995|1017.10|36.27|14.27|35.92|2.33|35.718|\n",
      "|Envirosensor|8001    |event|2018-05-14 00:02:02.066215|1017.10|36.27|14.27|35.92|2.33|35.718|\n",
      "|Envirosensor|8001    |event|2018-05-14 00:03:02.064938|1017.10|36.27|14.27|35.92|0.80|35.718|\n",
      "|Envirosensor|8001    |event|2018-05-14 00:04:02.082527|1017.01|36.26|14.27|35.92|0.64|35.718|\n",
      "|Envirosensor|8001    |event|2018-05-14 00:05:02.123239|1017.10|36.27|14.27|35.92|2.33|35.718|\n",
      "|Envirosensor|8001    |event|2018-05-14 00:06:02.143987|1017.07|36.26|14.27|35.93|2.33|35.718|\n",
      "|Envirosensor|8001    |event|2018-05-14 00:07:02.137921|1017.05|36.26|14.27|35.92|0.64|35.718|\n",
      "|Envirosensor|8001    |event|2018-05-14 00:08:02.159209|1017.05|36.26|14.27|35.92|0.64|35.718|\n",
      "|Envirosensor|8001    |event|2018-05-14 00:09:02.159609|1017.10|36.27|14.27|35.92|2.33|35.718|\n",
      "+------------+--------+-----+--------------------------+-------+-----+-----+-----+----+------+\n",
      "only showing top 10 rows\n",
      "\n"
     ]
    }
   ],
   "source": [
    "sensor_df.sort('Time').show(10,False)"
   ]
  },
  {
   "cell_type": "code",
   "execution_count": null,
   "metadata": {},
   "outputs": [],
   "source": []
  }
 ],
 "metadata": {
  "kernelspec": {
   "display_name": "Python 3",
   "language": "python",
   "name": "python3"
  },
  "language_info": {
   "codemirror_mode": {
    "name": "ipython",
    "version": 3
   },
   "file_extension": ".py",
   "mimetype": "text/x-python",
   "name": "python",
   "nbconvert_exporter": "python",
   "pygments_lexer": "ipython3",
   "version": "3.7.3"
  }
 },
 "nbformat": 4,
 "nbformat_minor": 2
}
