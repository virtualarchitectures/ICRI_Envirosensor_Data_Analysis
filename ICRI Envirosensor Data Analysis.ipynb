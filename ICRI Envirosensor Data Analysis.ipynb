{
 "cells": [
  {
   "cell_type": "markdown",
   "metadata": {},
   "source": [
    "## ICRI Envirosensor Data Analysis"
   ]
  },
  {
   "cell_type": "markdown",
   "metadata": {},
   "source": [
    "#### 1. Download dependencies"
   ]
  },
  {
   "cell_type": "code",
   "execution_count": 11,
   "metadata": {},
   "outputs": [],
   "source": [
    "#Import ijson to read large json files iteratively\n",
    "import ijson\n",
    "\n",
    "#Import json\n",
    "import json\n",
    "\n",
    "#Import Pandas for data analysis \n",
    "import pandas as pd\n",
    "from pandas import DataFrame\n",
    "from pandas.io.json import json_normalize"
   ]
  },
  {
   "cell_type": "markdown",
   "metadata": {},
   "source": [
    "#### 2. Identify data location"
   ]
  },
  {
   "cell_type": "code",
   "execution_count": 18,
   "metadata": {},
   "outputs": [
    {
     "name": "stdout",
     "output_type": "stream",
     "text": [
      "data\\here_east_envirosensors.json\n"
     ]
    }
   ],
   "source": [
    "from os import path\n",
    "\n",
    "#In windows the 'r' preceding the file name string indcates that it is a raw sting so that slashes are interpreted correctly\n",
    "filename = path.expanduser(r'data\\here_east_envirosensors.json')\n",
    "\n",
    "#Test file\n",
    "#filename = path.expanduser(r'data\\Envirosensor_TEST.json')\n",
    "\n",
    "#Check that the name has been assigned to the variable correctly\n",
    "print(filename)"
   ]
  },
  {
   "cell_type": "markdown",
   "metadata": {},
   "source": [
    "#### 3. Check file size in KB to ensure it can be loaded into memory"
   ]
  },
  {
   "cell_type": "code",
   "execution_count": 19,
   "metadata": {},
   "outputs": [
    {
     "data": {
      "text/plain": [
       "1596960.076171875"
      ]
     },
     "execution_count": 19,
     "metadata": {},
     "output_type": "execute_result"
    }
   ],
   "source": [
    "path.getsize(filename) / (1<<10)"
   ]
  },
  {
   "cell_type": "markdown",
   "metadata": {},
   "source": [
    "#### 4. Parse JSON data iteratively with ijson"
   ]
  },
  {
   "cell_type": "code",
   "execution_count": 20,
   "metadata": {},
   "outputs": [
    {
     "name": "stdout",
     "output_type": "stream",
     "text": [
      "{ \"DeviceID\": \"8010\", \"DeviceType\": \"Envirosensor\", \"Event\": \"event\", \"Time\": \"2018-06-03 20:40:41.629620\", \"Data\": { \"TMP\": \"36.187\", \"OPT\": \"4.17\", \"BAT\": \"36.58\", \"HDT\": \"36.32\", \"BAR\": \"1016.17\", \"HDH\": \"22.65\" } }\n"
     ]
    }
   ],
   "source": [
    "with open(filename, 'r') as json_file:\n",
    "    #Use the items method in ijson to extract a list of objects specifying the file and key path to to the list\n",
    "    objects = ijson.items(json_file, 'item.data')\n",
    "    #The items fuction returns a generator which we turn into a list of payloads with the list function \n",
    "    payloads = list(objects)\n",
    "    #Check the first item in the payloads list\n",
    "    print(payloads[0])"
   ]
  },
  {
   "cell_type": "markdown",
   "metadata": {},
   "source": [
    "#### 5. Display number of payloads"
   ]
  },
  {
   "cell_type": "code",
   "execution_count": 21,
   "metadata": {},
   "outputs": [
    {
     "name": "stdout",
     "output_type": "stream",
     "text": [
      "Total Sensor Payloads = 3258298\n"
     ]
    }
   ],
   "source": [
    "#Count items in the payloads list\n",
    "print('Total Sensor Payloads =', len(payloads))"
   ]
  },
  {
   "cell_type": "markdown",
   "metadata": {},
   "source": [
    "#### 6. Loop through payloads list and add each to an empty Pandas dataframe"
   ]
  },
  {
   "cell_type": "code",
   "execution_count": 16,
   "metadata": {},
   "outputs": [
    {
     "name": "stdout",
     "output_type": "stream",
     "text": [
      "  Data.BAR Data.BAT Data.HDH Data.HDT Data.OPT Data.TMP DeviceID  \\\n",
      "0  1016.17    36.58    22.65    36.32     4.17   36.187     8010   \n",
      "\n",
      "     DeviceType  Event                        Time  \n",
      "0  Envirosensor  event  2018-06-03 20:40:41.629620  \n",
      "  Data.BAR Data.BAT Data.HDH Data.HDT Data.OPT Data.TMP DeviceID  \\\n",
      "0  1016.14    35.06    28.68    34.76     0.00   34.562     8017   \n",
      "\n",
      "     DeviceType  Event                        Time  \n",
      "0  Envirosensor  event  2018-06-01 04:22:22.881564  \n",
      "  Data.BAR Data.BAT Data.HDH Data.HDT Data.OPT Data.TMP DeviceID  \\\n",
      "0  1017.23    35.49    26.23    35.06     6.17   34.781     8008   \n",
      "\n",
      "     DeviceType  Event                        Time  \n",
      "0  Envirosensor  event  2018-06-01 13:04:56.152669  \n",
      "  Data.BAR Data.BAT Data.HDH Data.HDT Data.OPT Data.TMP DeviceID  \\\n",
      "0  1013.88    34.07    21.58    34.14    73.04   33.843     8019   \n",
      "\n",
      "     DeviceType  Event                        Time  \n",
      "0  Envirosensor  event  2018-05-29 22:48:18.852665  \n",
      "  Data.BAR Data.BAT Data.HDH Data.HDT Data.OPT Data.TMP DeviceID  \\\n",
      "0  1017.59    35.05    27.41    34.77     6.67   34.625     8010   \n",
      "\n",
      "     DeviceType  Event                        Time  \n",
      "0  Envirosensor  event  2018-06-01 13:19:15.175496  \n",
      "  Data.BAR Data.BAT Data.HDH Data.HDT Data.OPT Data.TMP DeviceID  \\\n",
      "0  1017.23    36.19    18.90    36.06     4.89   35.906     8004   \n",
      "\n",
      "     DeviceType  Event                        Time  \n",
      "0  Envirosensor  event  2018-06-02 23:12:12.230449  \n",
      "  Data.BAR Data.BAT Data.HDH Data.HDT Data.OPT Data.TMP DeviceID  \\\n",
      "0  1018.17    36.51    21.66    36.07     8.50   35.812     8008   \n",
      "\n",
      "     DeviceType  Event                        Time  \n",
      "0  Envirosensor  event  2018-06-03 07:33:16.774434  \n",
      "  Data.BAR Data.BAT Data.HDH Data.HDT Data.OPT Data.TMP DeviceID  \\\n",
      "0  1013.19    34.93    20.34    35.01    74.00   34.718     8019   \n",
      "\n",
      "     DeviceType  Event                        Time  \n",
      "0  Envirosensor  event  2018-05-30 09:25:24.052756  \n",
      "  Data.BAR Data.BAT Data.HDH Data.HDT Data.OPT Data.TMP DeviceID  \\\n",
      "0  1018.45    35.87    22.71    35.52   108.72   35.281     8005   \n",
      "\n",
      "     DeviceType  Event                        Time  \n",
      "0  Envirosensor  event  2018-06-03 00:30:56.678239  \n",
      "  Data.BAR Data.BAT Data.HDH Data.HDT Data.OPT Data.TMP DeviceID  \\\n",
      "0  1018.45    37.08    17.05    36.84     0.24   36.500     8018   \n",
      "\n",
      "     DeviceType  Event                        Time  \n",
      "0  Envirosensor  event  2018-06-03 09:34:58.436492  \n",
      "  Data.BAR Data.BAT Data.HDH Data.HDT Data.OPT Data.TMP DeviceID  \\\n",
      "0  1018.69    36.04    19.87    35.83   111.92   35.531     8016   \n",
      "\n",
      "     DeviceType  Event                        Time  \n",
      "0  Envirosensor  event  2018-06-03 07:40:26.538855  \n"
     ]
    }
   ],
   "source": [
    "#Create an empty dataframe\n",
    "df = DataFrame()\n",
    "\n",
    "#Loop through collection of payloads and add each one to the dataframe\n",
    "for i in payloads:\n",
    "    row = json_normalize(json.loads(i))\n",
    "    df = df.append(row, sort=False)\n",
    "    print(row)"
   ]
  },
  {
   "cell_type": "markdown",
   "metadata": {},
   "source": [
    "#### 7. Display dataframe summary information"
   ]
  },
  {
   "cell_type": "code",
   "execution_count": 17,
   "metadata": {},
   "outputs": [
    {
     "name": "stdout",
     "output_type": "stream",
     "text": [
      "<class 'pandas.core.frame.DataFrame'>\n",
      "Int64Index: 11 entries, 0 to 0\n",
      "Data columns (total 10 columns):\n",
      "Data.BAR      11 non-null object\n",
      "Data.BAT      11 non-null object\n",
      "Data.HDH      11 non-null object\n",
      "Data.HDT      11 non-null object\n",
      "Data.OPT      11 non-null object\n",
      "Data.TMP      11 non-null object\n",
      "DeviceID      11 non-null object\n",
      "DeviceType    11 non-null object\n",
      "Event         11 non-null object\n",
      "Time          11 non-null object\n",
      "dtypes: object(10)\n",
      "memory usage: 968.0+ bytes\n"
     ]
    }
   ],
   "source": [
    "df.info()"
   ]
  },
  {
   "cell_type": "code",
   "execution_count": 8,
   "metadata": {},
   "outputs": [
    {
     "data": {
      "text/html": [
       "<div>\n",
       "<style scoped>\n",
       "    .dataframe tbody tr th:only-of-type {\n",
       "        vertical-align: middle;\n",
       "    }\n",
       "\n",
       "    .dataframe tbody tr th {\n",
       "        vertical-align: top;\n",
       "    }\n",
       "\n",
       "    .dataframe thead th {\n",
       "        text-align: right;\n",
       "    }\n",
       "</style>\n",
       "<table border=\"1\" class=\"dataframe\">\n",
       "  <thead>\n",
       "    <tr style=\"text-align: right;\">\n",
       "      <th></th>\n",
       "      <th>Data.BAR</th>\n",
       "      <th>Data.BAT</th>\n",
       "      <th>Data.HDH</th>\n",
       "      <th>Data.HDT</th>\n",
       "      <th>Data.OPT</th>\n",
       "      <th>Data.TMP</th>\n",
       "      <th>DeviceID</th>\n",
       "      <th>DeviceType</th>\n",
       "      <th>Event</th>\n",
       "      <th>Time</th>\n",
       "    </tr>\n",
       "  </thead>\n",
       "  <tbody>\n",
       "    <tr>\n",
       "      <th>0</th>\n",
       "      <td>1016.17</td>\n",
       "      <td>36.58</td>\n",
       "      <td>22.65</td>\n",
       "      <td>36.32</td>\n",
       "      <td>4.17</td>\n",
       "      <td>36.187</td>\n",
       "      <td>8010</td>\n",
       "      <td>Envirosensor</td>\n",
       "      <td>event</td>\n",
       "      <td>2018-06-03 20:40:41.629620</td>\n",
       "    </tr>\n",
       "    <tr>\n",
       "      <th>0</th>\n",
       "      <td>1016.14</td>\n",
       "      <td>35.06</td>\n",
       "      <td>28.68</td>\n",
       "      <td>34.76</td>\n",
       "      <td>0.00</td>\n",
       "      <td>34.562</td>\n",
       "      <td>8017</td>\n",
       "      <td>Envirosensor</td>\n",
       "      <td>event</td>\n",
       "      <td>2018-06-01 04:22:22.881564</td>\n",
       "    </tr>\n",
       "    <tr>\n",
       "      <th>0</th>\n",
       "      <td>1017.23</td>\n",
       "      <td>35.49</td>\n",
       "      <td>26.23</td>\n",
       "      <td>35.06</td>\n",
       "      <td>6.17</td>\n",
       "      <td>34.781</td>\n",
       "      <td>8008</td>\n",
       "      <td>Envirosensor</td>\n",
       "      <td>event</td>\n",
       "      <td>2018-06-01 13:04:56.152669</td>\n",
       "    </tr>\n",
       "    <tr>\n",
       "      <th>0</th>\n",
       "      <td>1013.88</td>\n",
       "      <td>34.07</td>\n",
       "      <td>21.58</td>\n",
       "      <td>34.14</td>\n",
       "      <td>73.04</td>\n",
       "      <td>33.843</td>\n",
       "      <td>8019</td>\n",
       "      <td>Envirosensor</td>\n",
       "      <td>event</td>\n",
       "      <td>2018-05-29 22:48:18.852665</td>\n",
       "    </tr>\n",
       "    <tr>\n",
       "      <th>0</th>\n",
       "      <td>1017.59</td>\n",
       "      <td>35.05</td>\n",
       "      <td>27.41</td>\n",
       "      <td>34.77</td>\n",
       "      <td>6.67</td>\n",
       "      <td>34.625</td>\n",
       "      <td>8010</td>\n",
       "      <td>Envirosensor</td>\n",
       "      <td>event</td>\n",
       "      <td>2018-06-01 13:19:15.175496</td>\n",
       "    </tr>\n",
       "    <tr>\n",
       "      <th>0</th>\n",
       "      <td>1017.23</td>\n",
       "      <td>36.19</td>\n",
       "      <td>18.90</td>\n",
       "      <td>36.06</td>\n",
       "      <td>4.89</td>\n",
       "      <td>35.906</td>\n",
       "      <td>8004</td>\n",
       "      <td>Envirosensor</td>\n",
       "      <td>event</td>\n",
       "      <td>2018-06-02 23:12:12.230449</td>\n",
       "    </tr>\n",
       "    <tr>\n",
       "      <th>0</th>\n",
       "      <td>1018.17</td>\n",
       "      <td>36.51</td>\n",
       "      <td>21.66</td>\n",
       "      <td>36.07</td>\n",
       "      <td>8.50</td>\n",
       "      <td>35.812</td>\n",
       "      <td>8008</td>\n",
       "      <td>Envirosensor</td>\n",
       "      <td>event</td>\n",
       "      <td>2018-06-03 07:33:16.774434</td>\n",
       "    </tr>\n",
       "    <tr>\n",
       "      <th>0</th>\n",
       "      <td>1013.19</td>\n",
       "      <td>34.93</td>\n",
       "      <td>20.34</td>\n",
       "      <td>35.01</td>\n",
       "      <td>74.00</td>\n",
       "      <td>34.718</td>\n",
       "      <td>8019</td>\n",
       "      <td>Envirosensor</td>\n",
       "      <td>event</td>\n",
       "      <td>2018-05-30 09:25:24.052756</td>\n",
       "    </tr>\n",
       "    <tr>\n",
       "      <th>0</th>\n",
       "      <td>1018.45</td>\n",
       "      <td>35.87</td>\n",
       "      <td>22.71</td>\n",
       "      <td>35.52</td>\n",
       "      <td>108.72</td>\n",
       "      <td>35.281</td>\n",
       "      <td>8005</td>\n",
       "      <td>Envirosensor</td>\n",
       "      <td>event</td>\n",
       "      <td>2018-06-03 00:30:56.678239</td>\n",
       "    </tr>\n",
       "    <tr>\n",
       "      <th>0</th>\n",
       "      <td>1018.45</td>\n",
       "      <td>37.08</td>\n",
       "      <td>17.05</td>\n",
       "      <td>36.84</td>\n",
       "      <td>0.24</td>\n",
       "      <td>36.500</td>\n",
       "      <td>8018</td>\n",
       "      <td>Envirosensor</td>\n",
       "      <td>event</td>\n",
       "      <td>2018-06-03 09:34:58.436492</td>\n",
       "    </tr>\n",
       "    <tr>\n",
       "      <th>0</th>\n",
       "      <td>1018.69</td>\n",
       "      <td>36.04</td>\n",
       "      <td>19.87</td>\n",
       "      <td>35.83</td>\n",
       "      <td>111.92</td>\n",
       "      <td>35.531</td>\n",
       "      <td>8016</td>\n",
       "      <td>Envirosensor</td>\n",
       "      <td>event</td>\n",
       "      <td>2018-06-03 07:40:26.538855</td>\n",
       "    </tr>\n",
       "  </tbody>\n",
       "</table>\n",
       "</div>"
      ],
      "text/plain": [
       "  Data.BAR Data.BAT Data.HDH Data.HDT Data.OPT Data.TMP DeviceID  \\\n",
       "0  1016.17    36.58    22.65    36.32     4.17   36.187     8010   \n",
       "0  1016.14    35.06    28.68    34.76     0.00   34.562     8017   \n",
       "0  1017.23    35.49    26.23    35.06     6.17   34.781     8008   \n",
       "0  1013.88    34.07    21.58    34.14    73.04   33.843     8019   \n",
       "0  1017.59    35.05    27.41    34.77     6.67   34.625     8010   \n",
       "0  1017.23    36.19    18.90    36.06     4.89   35.906     8004   \n",
       "0  1018.17    36.51    21.66    36.07     8.50   35.812     8008   \n",
       "0  1013.19    34.93    20.34    35.01    74.00   34.718     8019   \n",
       "0  1018.45    35.87    22.71    35.52   108.72   35.281     8005   \n",
       "0  1018.45    37.08    17.05    36.84     0.24   36.500     8018   \n",
       "0  1018.69    36.04    19.87    35.83   111.92   35.531     8016   \n",
       "\n",
       "     DeviceType  Event                        Time  \n",
       "0  Envirosensor  event  2018-06-03 20:40:41.629620  \n",
       "0  Envirosensor  event  2018-06-01 04:22:22.881564  \n",
       "0  Envirosensor  event  2018-06-01 13:04:56.152669  \n",
       "0  Envirosensor  event  2018-05-29 22:48:18.852665  \n",
       "0  Envirosensor  event  2018-06-01 13:19:15.175496  \n",
       "0  Envirosensor  event  2018-06-02 23:12:12.230449  \n",
       "0  Envirosensor  event  2018-06-03 07:33:16.774434  \n",
       "0  Envirosensor  event  2018-05-30 09:25:24.052756  \n",
       "0  Envirosensor  event  2018-06-03 00:30:56.678239  \n",
       "0  Envirosensor  event  2018-06-03 09:34:58.436492  \n",
       "0  Envirosensor  event  2018-06-03 07:40:26.538855  "
      ]
     },
     "execution_count": 8,
     "metadata": {},
     "output_type": "execute_result"
    }
   ],
   "source": [
    "df"
   ]
  },
  {
   "cell_type": "code",
   "execution_count": null,
   "metadata": {},
   "outputs": [],
   "source": []
  }
 ],
 "metadata": {
  "kernelspec": {
   "display_name": "Python 3",
   "language": "python",
   "name": "python3"
  },
  "language_info": {
   "codemirror_mode": {
    "name": "ipython",
    "version": 3
   },
   "file_extension": ".py",
   "mimetype": "text/x-python",
   "name": "python",
   "nbconvert_exporter": "python",
   "pygments_lexer": "ipython3",
   "version": "3.7.1"
  }
 },
 "nbformat": 4,
 "nbformat_minor": 2
}
