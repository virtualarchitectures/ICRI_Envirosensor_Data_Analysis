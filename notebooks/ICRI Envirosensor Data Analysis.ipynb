{
 "cells": [
  {
   "cell_type": "markdown",
   "metadata": {},
   "source": [
    "## ICRI Envirosensor Data Analysis"
   ]
  },
  {
   "cell_type": "markdown",
   "metadata": {},
   "source": [
    "#### Download dependencies"
   ]
  },
  {
   "cell_type": "code",
   "execution_count": 1,
   "metadata": {},
   "outputs": [],
   "source": [
    "#Import json\n",
    "import json\n",
    "\n",
    "#Import ijson to read large json files iteratively\n",
    "import ijson\n",
    "\n",
    "#Import Time module\n",
    "import time\n",
    "\n",
    "#Import numpy and pandas\n",
    "import numpy as np\n",
    "import pandas as pd\n",
    "\n",
    "#Import matplotlib for plotting graphs\n",
    "import matplotlib\n",
    "import matplotlib.pyplot as plt\n",
    "import matplotlib.dates as mdates\n",
    "import matplotlib.ticker as ticker\n",
    "\n",
    "#Import seaborn to to enhance visualisation\n",
    "import seaborn as sns\n",
    "\n",
    "#Import Apache Spark\n",
    "from pyspark.sql import SparkSession\n",
    "from pyspark.sql import *\n",
    "from pyspark.sql import functions\n",
    "\n",
    "from pyspark import SparkContext\n",
    "\n",
    "#Import relevant data types from pyspark schema definition\n",
    "from pyspark.sql.types import StructType, StructField, StringType, TimestampType"
   ]
  },
  {
   "cell_type": "markdown",
   "metadata": {},
   "source": [
    "#### List of Files"
   ]
  },
  {
   "cell_type": "code",
   "execution_count": 2,
   "metadata": {},
   "outputs": [],
   "source": [
    "files = [\n",
    "    'iotp_kfb22t_envirosensor_2018-w19',\n",
    "    'iotp_kfb22t_envirosensor_2018-w20',\n",
    "    'iotp_kfb22t_envirosensor_2018-w21',\n",
    "    'iotp_kfb22t_envirosensor_2018-w22',\n",
    "    'iotp_kfb22t_envirosensor_2018-w23',\n",
    "    'iotp_kfb22t_envirosensor_2018-w24',\n",
    "    'iotp_kfb22t_envirosensor_2018-w25',\n",
    "    'iotp_kfb22t_envirosensor_2018-w26',\n",
    "    'iotp_kfb22t_envirosensor_2018-w27',\n",
    "    'iotp_kfb22t_envirosensor_2018-w28',\n",
    "    'iotp_kfb22t_envirosensor_2018-w29',\n",
    "    'iotp_kfb22t_envirosensor_2018-w30',\n",
    "    'iotp_kfb22t_envirosensor_2018-w31',\n",
    "    'iotp_kfb22t_envirosensor_2018-w32',\n",
    "    'iotp_kfb22t_envirosensor_2018-w33',\n",
    "    'iotp_kfb22t_envirosensor_2018-w34',\n",
    "    'iotp_kfb22t_envirosensor_2018-w35',\n",
    "    'iotp_kfb22t_envirosensor_2018-w36',\n",
    "    'iotp_kfb22t_envirosensor_2018-w37',\n",
    "    'iotp_kfb22t_envirosensor_2018-w38',\n",
    "    'iotp_kfb22t_envirosensor_2018-w39',\n",
    "    'iotp_kfb22t_envirosensor_2018-w40'\n",
    "]"
   ]
  },
  {
   "cell_type": "markdown",
   "metadata": {},
   "source": [
    "#### Identify data location"
   ]
  },
  {
   "cell_type": "code",
   "execution_count": 3,
   "metadata": {},
   "outputs": [
    {
     "name": "stdout",
     "output_type": "stream",
     "text": [
      "data/iotp_kfb22t_envirosensor_2018-w19.json\n"
     ]
    }
   ],
   "source": [
    "from os import path\n",
    "\n",
    "#In windows the 'r' preceding the file name string indcates that it is a raw sting so that slashes are interpreted correctly\n",
    "\n",
    "#EITHER - Use test file\n",
    "#filename = path.expanduser(r'data\\Envirosensor_TEST.json')\n",
    "\n",
    "#OR - Pick file by index\n",
    "currentFile = files[0]\n",
    "filename = path.expanduser(r'data/' + (currentFile) + '.json')\n",
    "\n",
    "#Check that the name has been assigned to the variable correctly\n",
    "print(filename)"
   ]
  },
  {
   "cell_type": "markdown",
   "metadata": {},
   "source": [
    "#### Check file size in KB to ensure it can be loaded into memory"
   ]
  },
  {
   "cell_type": "code",
   "execution_count": 4,
   "metadata": {},
   "outputs": [
    {
     "data": {
      "text/plain": [
       "48006.8427734375"
      ]
     },
     "execution_count": 4,
     "metadata": {},
     "output_type": "execute_result"
    }
   ],
   "source": [
    "path.getsize(filename) / (1<<10)"
   ]
  },
  {
   "cell_type": "markdown",
   "metadata": {},
   "source": [
    "## Parse JSON"
   ]
  },
  {
   "cell_type": "markdown",
   "metadata": {},
   "source": [
    "#### Parse JSON data iteratively with ijson"
   ]
  },
  {
   "cell_type": "code",
   "execution_count": 5,
   "metadata": {},
   "outputs": [
    {
     "name": "stdout",
     "output_type": "stream",
     "text": [
      "\n",
      "Time to complete: 8.57s\n",
      "\n",
      "Total Sensor Payloads = 98024 \n",
      "\n",
      "Example Sensor Payload:\n",
      "\n",
      "{ \"DeviceID\": \"8015\", \"DeviceType\": \"Envirosensor\", \"Event\": \"event\", \"Time\": \"2018-05-11 20:53:39.181958\", \"Data\": { \"OPT\": \"4.57\", \"TMP\": \"34.437\", \"BAT\": \"34.76\", \"HDT\": \"34.62\", \"BAR\": \"1012.27\", \"HDH\": \"10.01\" } }\n"
     ]
    }
   ],
   "source": [
    "#Define function to iteratively parse json file\n",
    "def iterativeParse(json):\n",
    "    with open(json, 'r') as json_file:\n",
    "        #Use the items method in ijson to extract a list of objects specifying the file and key path to to the list\n",
    "        objects = ijson.items(json_file, 'item.data')\n",
    "        #The items fuction returns a generator which we turn into a list of payloads with the list function \n",
    "        parsedData = list(objects)\n",
    "\n",
    "    return parsedData\n",
    "\n",
    "#Time execution of the iterativeParse function and assign the result to payloads variable\n",
    "start = time.time()\n",
    "payloads = iterativeParse(filename)\n",
    "end = time.time()\n",
    "\n",
    "#Display time taken to complete process\n",
    "print(f'\\nTime to complete: {end - start:.2f}s\\n')\n",
    "\n",
    "#Count items in the payloads list\n",
    "print('Total Sensor Payloads =', len(payloads), '\\n')\n",
    "\n",
    "#Check the first item in the payloads list\n",
    "print('Example Sensor Payload:\\n')\n",
    "print(payloads[0])"
   ]
  },
  {
   "cell_type": "markdown",
   "metadata": {},
   "source": [
    "## Apache Spark"
   ]
  },
  {
   "cell_type": "markdown",
   "metadata": {},
   "source": [
    "#### Setup Apache Spark"
   ]
  },
  {
   "cell_type": "code",
   "execution_count": 6,
   "metadata": {},
   "outputs": [],
   "source": [
    "#Create a Spark session\n",
    "spark = SparkSession \\\n",
    "    .builder \\\n",
    "    .appName(\"Envirosensor Data Analysis\") \\\n",
    "    .getOrCreate()\n",
    "\n",
    "SparkContext.setSystemProperty('spark.executor.memory', '4g')"
   ]
  },
  {
   "cell_type": "code",
   "execution_count": 7,
   "metadata": {},
   "outputs": [
    {
     "data": {
      "text/html": [
       "\n",
       "            <div>\n",
       "                <p><b>SparkSession - in-memory</b></p>\n",
       "                \n",
       "        <div>\n",
       "            <p><b>SparkContext</b></p>\n",
       "\n",
       "            <p><a href=\"http://DESKTOP-5EVOSD4:4041\">Spark UI</a></p>\n",
       "\n",
       "            <dl>\n",
       "              <dt>Version</dt>\n",
       "                <dd><code>v2.4.3</code></dd>\n",
       "              <dt>Master</dt>\n",
       "                <dd><code>local[*]</code></dd>\n",
       "              <dt>AppName</dt>\n",
       "                <dd><code>Envirosensor Data Analysis</code></dd>\n",
       "            </dl>\n",
       "        </div>\n",
       "        \n",
       "            </div>\n",
       "        "
      ],
      "text/plain": [
       "<pyspark.sql.session.SparkSession at 0x1facca45e10>"
      ]
     },
     "execution_count": 7,
     "metadata": {},
     "output_type": "execute_result"
    }
   ],
   "source": [
    "#Check Spark \n",
    "spark"
   ]
  },
  {
   "cell_type": "markdown",
   "metadata": {},
   "source": [
    "## Parse JSON Directly into Spark Dataframe"
   ]
  },
  {
   "cell_type": "markdown",
   "metadata": {},
   "source": [
    "#### Read JSON data directly into Apache Spark data frame"
   ]
  },
  {
   "cell_type": "code",
   "execution_count": 8,
   "metadata": {},
   "outputs": [
    {
     "name": "stdout",
     "output_type": "stream",
     "text": [
      "\n",
      "Time to complete: 1.96s\n",
      "\n"
     ]
    }
   ],
   "source": [
    "#Place JSON into a Spark dataframe and time execution\n",
    "start = time.time()\n",
    "df = spark.read.json(filename, multiLine=True)\n",
    "end = time.time()\n",
    "\n",
    "print(f'\\nTime to complete: {end - start:.2f}s\\n')"
   ]
  },
  {
   "cell_type": "markdown",
   "metadata": {},
   "source": [
    "#### Display the dataframe"
   ]
  },
  {
   "cell_type": "code",
   "execution_count": 9,
   "metadata": {},
   "outputs": [
    {
     "name": "stdout",
     "output_type": "stream",
     "text": [
      "+--------------------+--------+------------+---------+------+--------------------+--------------------+\n",
      "|                data|deviceId|  deviceType|eventType|format|    json_featuretype|           timestamp|\n",
      "+--------------------+--------+------------+---------+------+--------------------+--------------------+\n",
      "|{ \"DeviceID\": \"80...|    8015|Envirosensor|    event|  json|iotp_kfb22t_envir...|2018-05-11T20:53:...|\n",
      "|{ \"DeviceID\": \"80...|    8008|Envirosensor|    event|  json|iotp_kfb22t_envir...|2018-05-12T11:34:...|\n",
      "|{ \"DeviceID\": \"80...|    8004|Envirosensor|    event|  json|iotp_kfb22t_envir...|2018-05-10T20:04:...|\n",
      "|{ \"DeviceID\": \"80...|    8007|Envirosensor|    event|  json|iotp_kfb22t_envir...|2018-05-11T19:06:...|\n",
      "|{ \"DeviceID\": \"80...|    8015|Envirosensor|    event|  json|iotp_kfb22t_envir...|2018-05-11T10:16:...|\n",
      "+--------------------+--------+------------+---------+------+--------------------+--------------------+\n",
      "only showing top 5 rows\n",
      "\n"
     ]
    }
   ],
   "source": [
    "# Display the content of the DataFrame\n",
    "df.show(5)"
   ]
  },
  {
   "cell_type": "markdown",
   "metadata": {},
   "source": [
    "## Spark Resilient Distributed Datasets (RDD's)"
   ]
  },
  {
   "cell_type": "markdown",
   "metadata": {},
   "source": [
    "#### Establish sensor data payload schema by loading a sample into a data frame"
   ]
  },
  {
   "cell_type": "code",
   "execution_count": 10,
   "metadata": {},
   "outputs": [
    {
     "name": "stdout",
     "output_type": "stream",
     "text": [
      "['{ \"DeviceID\": \"8015\", \"DeviceType\": \"Envirosensor\", \"Event\": \"event\", \"Time\": \"2018-05-11 20:53:39.181958\", \"Data\": { \"OPT\": \"4.57\", \"TMP\": \"34.437\", \"BAT\": \"34.76\", \"HDT\": \"34.62\", \"BAR\": \"1012.27\", \"HDH\": \"10.01\" } }']\n",
      "\n",
      "Time to complete: 0.02s\n",
      "\n",
      "+--------------------------------------------+--------+------------+-----+--------------------------+\n",
      "|Data                                        |DeviceID|DeviceType  |Event|Time                      |\n",
      "+--------------------------------------------+--------+------------+-----+--------------------------+\n",
      "|[1012.27, 34.76, 10.01, 34.62, 4.57, 34.437]|8015    |Envirosensor|event|2018-05-11 20:53:39.181958|\n",
      "+--------------------------------------------+--------+------------+-----+--------------------------+\n",
      "\n",
      "root\n",
      " |-- Data: struct (nullable = true)\n",
      " |    |-- BAR: string (nullable = true)\n",
      " |    |-- BAT: string (nullable = true)\n",
      " |    |-- HDH: string (nullable = true)\n",
      " |    |-- HDT: string (nullable = true)\n",
      " |    |-- OPT: string (nullable = true)\n",
      " |    |-- TMP: string (nullable = true)\n",
      " |-- DeviceID: string (nullable = true)\n",
      " |-- DeviceType: string (nullable = true)\n",
      " |-- Event: string (nullable = true)\n",
      " |-- Time: string (nullable = true)\n",
      "\n"
     ]
    },
    {
     "data": {
      "text/plain": [
       "StructType(List(StructField(Data,StructType(List(StructField(BAR,StringType,true),StructField(BAT,StringType,true),StructField(HDH,StringType,true),StructField(HDT,StringType,true),StructField(OPT,StringType,true),StructField(TMP,StringType,true))),true),StructField(DeviceID,StringType,true),StructField(DeviceType,StringType,true),StructField(Event,StringType,true),StructField(Time,StringType,true)))"
      ]
     },
     "execution_count": 10,
     "metadata": {},
     "output_type": "execute_result"
    }
   ],
   "source": [
    "print(payloads[0:1])\n",
    "\n",
    "#Time execution of loading payloads into RDD's\n",
    "start = time.time()\n",
    "sc = spark.sparkContext\n",
    "testRDD = sc.parallelize(payloads[0:1],8)\n",
    "end = time.time()\n",
    "\n",
    "print(f'\\nTime to complete: {end - start:.2f}s\\n')\n",
    "\n",
    "test_df = spark.read.json(testRDD)\n",
    "\n",
    "test_df.show(5, False)\n",
    "\n",
    "test_df.printSchema()\n",
    "test_df.schema"
   ]
  },
  {
   "cell_type": "markdown",
   "metadata": {},
   "source": [
    "#### Build and store revised data schema"
   ]
  },
  {
   "cell_type": "code",
   "execution_count": 11,
   "metadata": {},
   "outputs": [],
   "source": [
    "#Build and return a schema to use for the sample data\n",
    "def build_schema():\n",
    "    \n",
    "    schema = test_df.schema\n",
    "    \n",
    "    return schema"
   ]
  },
  {
   "cell_type": "markdown",
   "metadata": {},
   "source": [
    "#### Load payloads into RDD's"
   ]
  },
  {
   "cell_type": "code",
   "execution_count": 12,
   "metadata": {},
   "outputs": [
    {
     "name": "stdout",
     "output_type": "stream",
     "text": [
      "\n",
      "Time to complete: 0.05s\n",
      "\n"
     ]
    }
   ],
   "source": [
    "#Time execution of loading payloads into RDD's\n",
    "start = time.time()\n",
    "sc = spark.sparkContext\n",
    "payloadsRDD = sc.parallelize(payloads,8)\n",
    "end = time.time()\n",
    "\n",
    "print(f'\\nTime to complete: {end - start:.2f}s\\n')"
   ]
  },
  {
   "cell_type": "markdown",
   "metadata": {},
   "source": [
    "#### Convert RDD to dataframe using data schema"
   ]
  },
  {
   "cell_type": "code",
   "execution_count": 13,
   "metadata": {},
   "outputs": [],
   "source": [
    "processedData = spark.read.json(payloadsRDD, schema=build_schema())"
   ]
  },
  {
   "cell_type": "markdown",
   "metadata": {},
   "source": [
    "#### Display the Spark Dataframe and schema"
   ]
  },
  {
   "cell_type": "code",
   "execution_count": 14,
   "metadata": {},
   "outputs": [
    {
     "name": "stdout",
     "output_type": "stream",
     "text": [
      "+---------------------------------------------+--------+------------+-----+--------------------------+\n",
      "|Data                                         |DeviceID|DeviceType  |Event|Time                      |\n",
      "+---------------------------------------------+--------+------------+-----+--------------------------+\n",
      "|[1012.27, 34.76, 10.01, 34.62, 4.57, 34.437] |8015    |Envirosensor|event|2018-05-11 20:53:39.181958|\n",
      "|[1011.63, 34.77, 15.80, 34.33, 6.25, 34.093] |8008    |Envirosensor|event|2018-05-12 11:34:07.296419|\n",
      "|[1016.71, 35.05, 6.09, 34.90, 6.67, 34.781]  |8004    |Envirosensor|event|2018-05-10 20:04:43.869317|\n",
      "|[1012.87, 36.69, 5.81, 36.63, 224.48, 36.468]|8007    |Envirosensor|event|2018-05-11 19:06:16.760284|\n",
      "|[1016.55, 34.13, 10.78, 33.99, 9.16, 33.781] |8015    |Envirosensor|event|2018-05-11 10:16:34.037201|\n",
      "+---------------------------------------------+--------+------------+-----+--------------------------+\n",
      "only showing top 5 rows\n",
      "\n",
      "root\n",
      " |-- Data: struct (nullable = true)\n",
      " |    |-- BAR: string (nullable = true)\n",
      " |    |-- BAT: string (nullable = true)\n",
      " |    |-- HDH: string (nullable = true)\n",
      " |    |-- HDT: string (nullable = true)\n",
      " |    |-- OPT: string (nullable = true)\n",
      " |    |-- TMP: string (nullable = true)\n",
      " |-- DeviceID: string (nullable = true)\n",
      " |-- DeviceType: string (nullable = true)\n",
      " |-- Event: string (nullable = true)\n",
      " |-- Time: string (nullable = true)\n",
      "\n"
     ]
    },
    {
     "data": {
      "text/plain": [
       "98024"
      ]
     },
     "execution_count": 14,
     "metadata": {},
     "output_type": "execute_result"
    }
   ],
   "source": [
    "processedData.show(5,False)\n",
    "\n",
    "processedData.printSchema()\n",
    "processedData.schema\n",
    "\n",
    "processedData.count()"
   ]
  },
  {
   "cell_type": "markdown",
   "metadata": {},
   "source": [
    "#### Flatten and reorder the Spark Dataframe"
   ]
  },
  {
   "cell_type": "code",
   "execution_count": 15,
   "metadata": {},
   "outputs": [],
   "source": [
    "flat_df = processedData.select(\n",
    "    \"DeviceType\",\n",
    "    \"DeviceID\",\n",
    "    \"Event\",\n",
    "    \"Time\",\n",
    "    \"Data.BAR\",\n",
    "    \"Data.BAT\",\n",
    "    \"Data.HDH\",\n",
    "    \"Data.HDT\",\n",
    "    \"Data.OPT\",\n",
    "    \"Data.TMP\"\n",
    ")"
   ]
  },
  {
   "cell_type": "markdown",
   "metadata": {},
   "source": [
    "#### Display the flattened dataframe"
   ]
  },
  {
   "cell_type": "code",
   "execution_count": 16,
   "metadata": {},
   "outputs": [
    {
     "name": "stdout",
     "output_type": "stream",
     "text": [
      "+------------+--------+-----+--------------------------+-------+-----+-----+-----+------+------+\n",
      "|DeviceType  |DeviceID|Event|Time                      |BAR    |BAT  |HDH  |HDT  |OPT   |TMP   |\n",
      "+------------+--------+-----+--------------------------+-------+-----+-----+-----+------+------+\n",
      "|Envirosensor|8015    |event|2018-05-11 20:53:39.181958|1012.27|34.76|10.01|34.62|4.57  |34.437|\n",
      "|Envirosensor|8008    |event|2018-05-12 11:34:07.296419|1011.63|34.77|15.80|34.33|6.25  |34.093|\n",
      "|Envirosensor|8004    |event|2018-05-10 20:04:43.869317|1016.71|35.05|6.09 |34.90|6.67  |34.781|\n",
      "|Envirosensor|8007    |event|2018-05-11 19:06:16.760284|1012.87|36.69|5.81 |36.63|224.48|36.468|\n",
      "|Envirosensor|8015    |event|2018-05-11 10:16:34.037201|1016.55|34.13|10.78|33.99|9.16  |33.781|\n",
      "+------------+--------+-----+--------------------------+-------+-----+-----+-----+------+------+\n",
      "only showing top 5 rows\n",
      "\n",
      "root\n",
      " |-- DeviceType: string (nullable = true)\n",
      " |-- DeviceID: string (nullable = true)\n",
      " |-- Event: string (nullable = true)\n",
      " |-- Time: string (nullable = true)\n",
      " |-- BAR: string (nullable = true)\n",
      " |-- BAT: string (nullable = true)\n",
      " |-- HDH: string (nullable = true)\n",
      " |-- HDT: string (nullable = true)\n",
      " |-- OPT: string (nullable = true)\n",
      " |-- TMP: string (nullable = true)\n",
      "\n"
     ]
    },
    {
     "data": {
      "text/plain": [
       "98024"
      ]
     },
     "execution_count": 16,
     "metadata": {},
     "output_type": "execute_result"
    }
   ],
   "source": [
    "flat_df.show(5,False)\n",
    "flat_df.printSchema()\n",
    "flat_df.schema\n",
    "\n",
    "flat_df.count()"
   ]
  },
  {
   "cell_type": "markdown",
   "metadata": {},
   "source": [
    "#### Convert datatypes and reorder"
   ]
  },
  {
   "cell_type": "code",
   "execution_count": 17,
   "metadata": {},
   "outputs": [],
   "source": [
    "flat_df = flat_df.select(\n",
    "    flat_df.DeviceType,\n",
    "    flat_df.DeviceID,\n",
    "    flat_df.Event,\n",
    "    flat_df.Time.cast(\"timestamp\"),\n",
    "    flat_df.BAR.cast(\"float\"),\n",
    "    flat_df.BAT.cast(\"float\"),\n",
    "    flat_df.HDH.cast(\"float\"),\n",
    "    flat_df.HDT.cast(\"float\"),\n",
    "    flat_df.OPT.cast(\"float\"),\n",
    "    flat_df.TMP.cast(\"float\"),\n",
    ")"
   ]
  },
  {
   "cell_type": "markdown",
   "metadata": {},
   "source": [
    "#### Check the datatype conversion"
   ]
  },
  {
   "cell_type": "code",
   "execution_count": 18,
   "metadata": {},
   "outputs": [
    {
     "name": "stdout",
     "output_type": "stream",
     "text": [
      "+------------+--------+-----+--------------------------+-------+-----+-----+-----+------+------+\n",
      "|DeviceType  |DeviceID|Event|Time                      |BAR    |BAT  |HDH  |HDT  |OPT   |TMP   |\n",
      "+------------+--------+-----+--------------------------+-------+-----+-----+-----+------+------+\n",
      "|Envirosensor|8015    |event|2018-05-11 20:53:39.181958|1012.27|34.76|10.01|34.62|4.57  |34.437|\n",
      "|Envirosensor|8008    |event|2018-05-12 11:34:07.296419|1011.63|34.77|15.8 |34.33|6.25  |34.093|\n",
      "|Envirosensor|8004    |event|2018-05-10 20:04:43.869317|1016.71|35.05|6.09 |34.9 |6.67  |34.781|\n",
      "|Envirosensor|8007    |event|2018-05-11 19:06:16.760284|1012.87|36.69|5.81 |36.63|224.48|36.468|\n",
      "|Envirosensor|8015    |event|2018-05-11 10:16:34.037201|1016.55|34.13|10.78|33.99|9.16  |33.781|\n",
      "+------------+--------+-----+--------------------------+-------+-----+-----+-----+------+------+\n",
      "only showing top 5 rows\n",
      "\n",
      "root\n",
      " |-- DeviceType: string (nullable = true)\n",
      " |-- DeviceID: string (nullable = true)\n",
      " |-- Event: string (nullable = true)\n",
      " |-- Time: timestamp (nullable = true)\n",
      " |-- BAR: float (nullable = true)\n",
      " |-- BAT: float (nullable = true)\n",
      " |-- HDH: float (nullable = true)\n",
      " |-- HDT: float (nullable = true)\n",
      " |-- OPT: float (nullable = true)\n",
      " |-- TMP: float (nullable = true)\n",
      "\n"
     ]
    },
    {
     "data": {
      "text/plain": [
       "98024"
      ]
     },
     "execution_count": 18,
     "metadata": {},
     "output_type": "execute_result"
    }
   ],
   "source": [
    "flat_df.show(5,False)\n",
    "flat_df.printSchema()\n",
    "flat_df.schema\n",
    "\n",
    "flat_df.count()"
   ]
  },
  {
   "cell_type": "markdown",
   "metadata": {},
   "source": [
    "## Display Summary Statistics"
   ]
  },
  {
   "cell_type": "code",
   "execution_count": 19,
   "metadata": {},
   "outputs": [
    {
     "name": "stdout",
     "output_type": "stream",
     "text": [
      "+-------+------------+-----------------+-----+\n",
      "|summary|  DeviceType|         DeviceID|Event|\n",
      "+-------+------------+-----------------+-----+\n",
      "|  count|       98024|            98024|98024|\n",
      "|   mean|        null|8009.819840039174| null|\n",
      "| stddev|        null|5.618286811938404| null|\n",
      "|    min|Envirosensor|             8001|event|\n",
      "|    max|Envirosensor|             8019|event|\n",
      "+-------+------------+-----------------+-----+\n",
      "\n",
      "+-------+------------------+------------------+------------------+------------------+------------------+------------------+\n",
      "|summary|               BAR|               BAT|               HDH|               HDT|               OPT|               TMP|\n",
      "+-------+------------------+------------------+------------------+------------------+------------------+------------------+\n",
      "|  count|             97442|             98022|             97985|             98011|             97891|             98020|\n",
      "|   mean| 1013.620281670237|  34.9874885178126|11.352910029443484| 34.75921528315863|61.187677192359466|34.521656132970286|\n",
      "| stddev|2.8348094440194167|0.9549442248357881|3.0855673823588696|0.9430239816178312| 67.17383435502444|0.9481049848540656|\n",
      "|    min|           1006.34|             31.77|              3.74|             31.62|               0.0|            31.562|\n",
      "|    max|           1019.85|             37.27|             21.15|             37.22|            318.72|            37.031|\n",
      "+-------+------------------+------------------+------------------+------------------+------------------+------------------+\n",
      "\n"
     ]
    }
   ],
   "source": [
    "flat_df.describe('DeviceType', 'DeviceID', 'Event', 'Time').show()\n",
    "flat_df.describe('BAR', 'BAT', 'HDH', 'HDT', 'OPT', 'TMP').show()"
   ]
  },
  {
   "cell_type": "markdown",
   "metadata": {},
   "source": [
    "#### Count of Sensor Observations per Device"
   ]
  },
  {
   "cell_type": "code",
   "execution_count": 20,
   "metadata": {},
   "outputs": [
    {
     "name": "stdout",
     "output_type": "stream",
     "text": [
      "+--------+-----+\n",
      "|DeviceID|count|\n",
      "+--------+-----+\n",
      "|    8001| 5749|\n",
      "|    8002| 5748|\n",
      "|    8003| 5276|\n",
      "|    8004| 5747|\n",
      "|    8005| 5745|\n",
      "|    8006| 5749|\n",
      "|    8007| 5748|\n",
      "|    8008| 5748|\n",
      "|    8010| 5750|\n",
      "|    8011| 5745|\n",
      "|    8012| 5749|\n",
      "|    8013| 5273|\n",
      "|    8014| 4801|\n",
      "|    8015| 5745|\n",
      "|    8016| 2446|\n",
      "|    8017| 5513|\n",
      "|    8018| 5746|\n",
      "|    8019| 5746|\n",
      "+--------+-----+\n",
      "\n"
     ]
    }
   ],
   "source": [
    "flat_df.sort('DeviceID').groupBy('DeviceID').count().show()"
   ]
  },
  {
   "cell_type": "markdown",
   "metadata": {},
   "source": [
    "## Summary by Device"
   ]
  },
  {
   "cell_type": "markdown",
   "metadata": {},
   "source": [
    "#### Filter results by Device"
   ]
  },
  {
   "cell_type": "code",
   "execution_count": 51,
   "metadata": {},
   "outputs": [],
   "source": [
    "#Select device\n",
    "currentDevice = '8010'\n",
    "\n",
    "sensor_df = flat_df.filter(flat_df[\"DeviceID\"]==currentDevice)"
   ]
  },
  {
   "cell_type": "markdown",
   "metadata": {},
   "source": [
    "#### Display summary for sensor"
   ]
  },
  {
   "cell_type": "code",
   "execution_count": 52,
   "metadata": {},
   "outputs": [
    {
     "name": "stdout",
     "output_type": "stream",
     "text": [
      "+-------+------------+--------+-----+\n",
      "|summary|  DeviceType|DeviceID|Event|\n",
      "+-------+------------+--------+-----+\n",
      "|  count|        5750|    5750| 5750|\n",
      "|   mean|        null|  8010.0| null|\n",
      "| stddev|        null|     0.0| null|\n",
      "|    min|Envirosensor|    8010|event|\n",
      "|    max|Envirosensor|    8010|event|\n",
      "+-------+------------+--------+-----+\n",
      "\n",
      "+-------+------------------+-------------------+------------------+-------------------+-----------------+-------------------+\n",
      "|summary|               BAR|                BAT|               HDH|                HDT|              OPT|                TMP|\n",
      "+-------+------------------+-------------------+------------------+-------------------+-----------------+-------------------+\n",
      "|  count|              5724|               5750|              5750|               5749|             5742|               5750|\n",
      "|   mean|1013.3959746717323| 34.856535624628485|12.812638252175372|  34.62164051641815|12.16789793633171|  34.47113876873514|\n",
      "| stddev|2.7606581426808807|0.44219682944064126| 2.752222368197401|0.43717310003211923|19.13402179876378|0.43937553007755137|\n",
      "|    min|           1007.08|              33.82|              7.74|              33.59|              0.0|             33.437|\n",
      "|    max|           1018.82|              36.03|             17.49|               35.8|            69.44|             35.625|\n",
      "+-------+------------------+-------------------+------------------+-------------------+-----------------+-------------------+\n",
      "\n"
     ]
    }
   ],
   "source": [
    "sensor_df.describe('DeviceType', 'DeviceID', 'Event', 'Time').show()\n",
    "sensor_df.describe('BAR', 'BAT', 'HDH', 'HDT', 'OPT', 'TMP').show()"
   ]
  },
  {
   "cell_type": "markdown",
   "metadata": {},
   "source": [
    "#### Display sorted sensor readings"
   ]
  },
  {
   "cell_type": "code",
   "execution_count": 53,
   "metadata": {},
   "outputs": [
    {
     "name": "stdout",
     "output_type": "stream",
     "text": [
      "+------------+--------+-----+--------------------------+-------+-----+-----+-----+----+------+\n",
      "|DeviceType  |DeviceID|Event|Time                      |BAR    |BAT  |HDH  |HDT  |OPT |TMP   |\n",
      "+------------+--------+-----+--------------------------+-------+-----+-----+-----+----+------+\n",
      "|Envirosensor|8010    |event|2018-05-10 00:09:59.884305|1007.36|34.84|14.14|34.63|0.48|34.468|\n",
      "|Envirosensor|8010    |event|2018-05-10 00:10:59.893544|1007.36|34.84|14.14|34.61|3.37|34.468|\n",
      "|Envirosensor|8010    |event|2018-05-10 00:11:59.889736|1007.39|34.84|14.14|34.6 |3.37|34.468|\n",
      "|Envirosensor|8010    |event|2018-05-10 00:12:59.897979|1007.39|34.83|14.14|34.63|3.45|34.468|\n",
      "|Envirosensor|8010    |event|2018-05-10 00:13:59.894967|1007.34|34.84|14.14|34.61|0.48|34.468|\n",
      "|Envirosensor|8010    |event|2018-05-10 00:14:59.902636|1007.39|34.85|14.14|34.61|0.48|34.468|\n",
      "|Envirosensor|8010    |event|2018-05-10 00:15:59.897581|1007.42|34.85|14.14|34.61|3.37|34.468|\n",
      "|Envirosensor|8010    |event|2018-05-10 00:16:59.921671|1007.44|34.87|14.14|34.64|3.37|34.468|\n",
      "|Envirosensor|8010    |event|2018-05-10 00:17:59.925353|1007.41|34.87|14.23|34.63|0.0 |34.5  |\n",
      "|Envirosensor|8010    |event|2018-05-10 00:18:59.932614|1007.36|34.88|14.23|34.64|0.0 |34.5  |\n",
      "+------------+--------+-----+--------------------------+-------+-----+-----+-----+----+------+\n",
      "only showing top 10 rows\n",
      "\n"
     ]
    }
   ],
   "source": [
    "sensor_df.sort('Time').show(10,False)"
   ]
  },
  {
   "cell_type": "markdown",
   "metadata": {},
   "source": [
    "## Spark SQL Analysis"
   ]
  },
  {
   "cell_type": "markdown",
   "metadata": {},
   "source": [
    "#### Create temporary view of sensor readings"
   ]
  },
  {
   "cell_type": "code",
   "execution_count": 54,
   "metadata": {},
   "outputs": [],
   "source": [
    "flat_df.createOrReplaceTempView(\"sensorReadings\")"
   ]
  },
  {
   "cell_type": "markdown",
   "metadata": {},
   "source": [
    "#### Create a dataframe for that view"
   ]
  },
  {
   "cell_type": "code",
   "execution_count": 55,
   "metadata": {},
   "outputs": [],
   "source": [
    "df_sql = spark.sql(\"SELECT * FROM sensorReadings\")"
   ]
  },
  {
   "cell_type": "markdown",
   "metadata": {},
   "source": [
    "#### Show dataframe"
   ]
  },
  {
   "cell_type": "code",
   "execution_count": 56,
   "metadata": {},
   "outputs": [
    {
     "name": "stdout",
     "output_type": "stream",
     "text": [
      "+------------+--------+-----+--------------------------+-------+-----+-----+-----+------+------+\n",
      "|DeviceType  |DeviceID|Event|Time                      |BAR    |BAT  |HDH  |HDT  |OPT   |TMP   |\n",
      "+------------+--------+-----+--------------------------+-------+-----+-----+-----+------+------+\n",
      "|Envirosensor|8015    |event|2018-05-11 20:53:39.181958|1012.27|34.76|10.01|34.62|4.57  |34.437|\n",
      "|Envirosensor|8008    |event|2018-05-12 11:34:07.296419|1011.63|34.77|15.8 |34.33|6.25  |34.093|\n",
      "|Envirosensor|8004    |event|2018-05-10 20:04:43.869317|1016.71|35.05|6.09 |34.9 |6.67  |34.781|\n",
      "|Envirosensor|8007    |event|2018-05-11 19:06:16.760284|1012.87|36.69|5.81 |36.63|224.48|36.468|\n",
      "|Envirosensor|8015    |event|2018-05-11 10:16:34.037201|1016.55|34.13|10.78|33.99|9.16  |33.781|\n",
      "|Envirosensor|8017    |event|2018-05-12 10:29:41.851239|1012.51|33.26|18.01|33.01|7.84  |32.812|\n",
      "|Envirosensor|8005    |event|2018-05-13 11:40:05.670075|1014.26|34.43|14.91|34.09|124.48|33.843|\n",
      "|Envirosensor|8010    |event|2018-05-13 15:07:41.109431|1014.8 |35.52|14.16|35.27|10.28 |35.125|\n",
      "|Envirosensor|8014    |event|2018-05-13 18:20:57.530148|1015.53|34.71|11.38|34.32|128.08|34.093|\n",
      "|Envirosensor|8018    |event|2018-05-11 15:38:41.457063|1013.35|34.5 |6.97 |34.31|146.72|33.968|\n",
      "+------------+--------+-----+--------------------------+-------+-----+-----+-----+------+------+\n",
      "only showing top 10 rows\n",
      "\n"
     ]
    }
   ],
   "source": [
    "df_sql.show(10, False)"
   ]
  },
  {
   "cell_type": "markdown",
   "metadata": {},
   "source": [
    "#### Count of Sensor Observations per Device"
   ]
  },
  {
   "cell_type": "code",
   "execution_count": 57,
   "metadata": {
    "scrolled": true
   },
   "outputs": [
    {
     "name": "stdout",
     "output_type": "stream",
     "text": [
      "+--------+-----+\n",
      "|DeviceID|count|\n",
      "+--------+-----+\n",
      "|    8001| 5749|\n",
      "|    8002| 5748|\n",
      "|    8003| 5276|\n",
      "|    8004| 5747|\n",
      "|    8005| 5745|\n",
      "|    8006| 5749|\n",
      "|    8007| 5748|\n",
      "|    8008| 5748|\n",
      "|    8010| 5750|\n",
      "|    8011| 5745|\n",
      "|    8012| 5749|\n",
      "|    8013| 5273|\n",
      "|    8014| 4801|\n",
      "|    8015| 5745|\n",
      "|    8016| 2446|\n",
      "|    8017| 5513|\n",
      "|    8018| 5746|\n",
      "|    8019| 5746|\n",
      "+--------+-----+\n",
      "\n"
     ]
    }
   ],
   "source": [
    "df_sql = spark.sql(\"SELECT DeviceID, COUNT(*) AS count FROM sensorReadings GROUP BY DeviceID ORDER BY DeviceID\")\n",
    "df_sql.show()"
   ]
  },
  {
   "cell_type": "markdown",
   "metadata": {},
   "source": [
    "#### Convert to Pandas dataframe for visualisation"
   ]
  },
  {
   "cell_type": "code",
   "execution_count": 58,
   "metadata": {},
   "outputs": [
    {
     "data": {
      "text/html": [
       "<div>\n",
       "<style scoped>\n",
       "    .dataframe tbody tr th:only-of-type {\n",
       "        vertical-align: middle;\n",
       "    }\n",
       "\n",
       "    .dataframe tbody tr th {\n",
       "        vertical-align: top;\n",
       "    }\n",
       "\n",
       "    .dataframe thead th {\n",
       "        text-align: right;\n",
       "    }\n",
       "</style>\n",
       "<table border=\"1\" class=\"dataframe\">\n",
       "  <thead>\n",
       "    <tr style=\"text-align: right;\">\n",
       "      <th></th>\n",
       "      <th>DeviceID</th>\n",
       "      <th>count</th>\n",
       "    </tr>\n",
       "  </thead>\n",
       "  <tbody>\n",
       "    <tr>\n",
       "      <th>0</th>\n",
       "      <td>8001</td>\n",
       "      <td>5749</td>\n",
       "    </tr>\n",
       "    <tr>\n",
       "      <th>1</th>\n",
       "      <td>8002</td>\n",
       "      <td>5748</td>\n",
       "    </tr>\n",
       "    <tr>\n",
       "      <th>2</th>\n",
       "      <td>8003</td>\n",
       "      <td>5276</td>\n",
       "    </tr>\n",
       "    <tr>\n",
       "      <th>3</th>\n",
       "      <td>8004</td>\n",
       "      <td>5747</td>\n",
       "    </tr>\n",
       "    <tr>\n",
       "      <th>4</th>\n",
       "      <td>8005</td>\n",
       "      <td>5745</td>\n",
       "    </tr>\n",
       "    <tr>\n",
       "      <th>5</th>\n",
       "      <td>8006</td>\n",
       "      <td>5749</td>\n",
       "    </tr>\n",
       "    <tr>\n",
       "      <th>6</th>\n",
       "      <td>8007</td>\n",
       "      <td>5748</td>\n",
       "    </tr>\n",
       "    <tr>\n",
       "      <th>7</th>\n",
       "      <td>8008</td>\n",
       "      <td>5748</td>\n",
       "    </tr>\n",
       "    <tr>\n",
       "      <th>8</th>\n",
       "      <td>8010</td>\n",
       "      <td>5750</td>\n",
       "    </tr>\n",
       "    <tr>\n",
       "      <th>9</th>\n",
       "      <td>8011</td>\n",
       "      <td>5745</td>\n",
       "    </tr>\n",
       "    <tr>\n",
       "      <th>10</th>\n",
       "      <td>8012</td>\n",
       "      <td>5749</td>\n",
       "    </tr>\n",
       "    <tr>\n",
       "      <th>11</th>\n",
       "      <td>8013</td>\n",
       "      <td>5273</td>\n",
       "    </tr>\n",
       "    <tr>\n",
       "      <th>12</th>\n",
       "      <td>8014</td>\n",
       "      <td>4801</td>\n",
       "    </tr>\n",
       "    <tr>\n",
       "      <th>13</th>\n",
       "      <td>8015</td>\n",
       "      <td>5745</td>\n",
       "    </tr>\n",
       "    <tr>\n",
       "      <th>14</th>\n",
       "      <td>8016</td>\n",
       "      <td>2446</td>\n",
       "    </tr>\n",
       "    <tr>\n",
       "      <th>15</th>\n",
       "      <td>8017</td>\n",
       "      <td>5513</td>\n",
       "    </tr>\n",
       "    <tr>\n",
       "      <th>16</th>\n",
       "      <td>8018</td>\n",
       "      <td>5746</td>\n",
       "    </tr>\n",
       "    <tr>\n",
       "      <th>17</th>\n",
       "      <td>8019</td>\n",
       "      <td>5746</td>\n",
       "    </tr>\n",
       "  </tbody>\n",
       "</table>\n",
       "</div>"
      ],
      "text/plain": [
       "   DeviceID  count\n",
       "0      8001   5749\n",
       "1      8002   5748\n",
       "2      8003   5276\n",
       "3      8004   5747\n",
       "4      8005   5745\n",
       "5      8006   5749\n",
       "6      8007   5748\n",
       "7      8008   5748\n",
       "8      8010   5750\n",
       "9      8011   5745\n",
       "10     8012   5749\n",
       "11     8013   5273\n",
       "12     8014   4801\n",
       "13     8015   5745\n",
       "14     8016   2446\n",
       "15     8017   5513\n",
       "16     8018   5746\n",
       "17     8019   5746"
      ]
     },
     "execution_count": 58,
     "metadata": {},
     "output_type": "execute_result"
    }
   ],
   "source": [
    "visual_df = df_sql.toPandas()\n",
    "visual_df"
   ]
  },
  {
   "cell_type": "markdown",
   "metadata": {},
   "source": [
    "## Plot Count of Sensor Observations"
   ]
  },
  {
   "cell_type": "markdown",
   "metadata": {},
   "source": [
    "#### Set matplotlib visualisation parameters for all plots"
   ]
  },
  {
   "cell_type": "code",
   "execution_count": 59,
   "metadata": {},
   "outputs": [],
   "source": [
    "# Use %matplotlib for output plots to appear inline in the Jupyter notebook\n",
    "%matplotlib inline\n",
    "\n",
    "# Set the default figure size for all inline plots (must be used after %matplotlib)\n",
    "plt.rcParams['figure.figsize'] = [12, 8]\n",
    "\n",
    "#Set aesthetic parameters with seaborn\n",
    "sns.set()"
   ]
  },
  {
   "cell_type": "markdown",
   "metadata": {},
   "source": [
    "#### Plot data with matplotlib"
   ]
  },
  {
   "cell_type": "code",
   "execution_count": 60,
   "metadata": {},
   "outputs": [
    {
     "data": {
      "image/png": "[encoded data removed]",
      "text/plain": [
       "<Figure size 864x576 with 1 Axes>"
      ]
     },
     "metadata": {},
     "output_type": "display_data"
    }
   ],
   "source": [
    "# Plot horizontal bar chart\n",
    "visual_df.plot(kind='barh',x='DeviceID', y='count', alpha = 0.5, color='darkblue', legend = False)\n",
    "\n",
    "plt.xticks(rotation=60)\n",
    "plt.ylabel(\"DeviceID\")\n",
    "plt.xlabel(\"Number of Sensor Observations\")\n",
    "plt.title(\"Number of Sensor Observations by Sensor: \"  + currentFile)\n",
    "plt.gca().yaxis.grid(linestyle=':')\n",
    "\n",
    "plt.savefig(r'plots/' + (currentFile) + '.png')"
   ]
  },
  {
   "cell_type": "markdown",
   "metadata": {},
   "source": [
    "## Plot Sensor Observations by Device"
   ]
  },
  {
   "cell_type": "markdown",
   "metadata": {},
   "source": [
    "#### Create temporary view"
   ]
  },
  {
   "cell_type": "code",
   "execution_count": 61,
   "metadata": {},
   "outputs": [],
   "source": [
    "sensor_df.createOrReplaceTempView(\"sensorReadingsByDevice\")"
   ]
  },
  {
   "cell_type": "markdown",
   "metadata": {},
   "source": [
    "#### Create time ordered datframe for that view"
   ]
  },
  {
   "cell_type": "code",
   "execution_count": 62,
   "metadata": {},
   "outputs": [],
   "source": [
    "df_sql = spark.sql(\"SELECT * FROM sensorReadingsByDevice ORDER BY Time\")"
   ]
  },
  {
   "cell_type": "markdown",
   "metadata": {},
   "source": [
    "#### Show dataframe"
   ]
  },
  {
   "cell_type": "code",
   "execution_count": 63,
   "metadata": {},
   "outputs": [
    {
     "name": "stdout",
     "output_type": "stream",
     "text": [
      "+------------+--------+-----+--------------------------+-------+-----+-----+-----+----+------+\n",
      "|DeviceType  |DeviceID|Event|Time                      |BAR    |BAT  |HDH  |HDT  |OPT |TMP   |\n",
      "+------------+--------+-----+--------------------------+-------+-----+-----+-----+----+------+\n",
      "|Envirosensor|8010    |event|2018-05-10 00:09:59.884305|1007.36|34.84|14.14|34.63|0.48|34.468|\n",
      "|Envirosensor|8010    |event|2018-05-10 00:10:59.893544|1007.36|34.84|14.14|34.61|3.37|34.468|\n",
      "|Envirosensor|8010    |event|2018-05-10 00:11:59.889736|1007.39|34.84|14.14|34.6 |3.37|34.468|\n",
      "|Envirosensor|8010    |event|2018-05-10 00:12:59.897979|1007.39|34.83|14.14|34.63|3.45|34.468|\n",
      "|Envirosensor|8010    |event|2018-05-10 00:13:59.894967|1007.34|34.84|14.14|34.61|0.48|34.468|\n",
      "|Envirosensor|8010    |event|2018-05-10 00:14:59.902636|1007.39|34.85|14.14|34.61|0.48|34.468|\n",
      "|Envirosensor|8010    |event|2018-05-10 00:15:59.897581|1007.42|34.85|14.14|34.61|3.37|34.468|\n",
      "|Envirosensor|8010    |event|2018-05-10 00:16:59.921671|1007.44|34.87|14.14|34.64|3.37|34.468|\n",
      "|Envirosensor|8010    |event|2018-05-10 00:17:59.925353|1007.41|34.87|14.23|34.63|0.0 |34.5  |\n",
      "|Envirosensor|8010    |event|2018-05-10 00:18:59.932614|1007.36|34.88|14.23|34.64|0.0 |34.5  |\n",
      "+------------+--------+-----+--------------------------+-------+-----+-----+-----+----+------+\n",
      "only showing top 10 rows\n",
      "\n",
      "root\n",
      " |-- DeviceType: string (nullable = true)\n",
      " |-- DeviceID: string (nullable = true)\n",
      " |-- Event: string (nullable = true)\n",
      " |-- Time: timestamp (nullable = true)\n",
      " |-- BAR: float (nullable = true)\n",
      " |-- BAT: float (nullable = true)\n",
      " |-- HDH: float (nullable = true)\n",
      " |-- HDT: float (nullable = true)\n",
      " |-- OPT: float (nullable = true)\n",
      " |-- TMP: float (nullable = true)\n",
      "\n"
     ]
    }
   ],
   "source": [
    "df_sql.show(10, False)\n",
    "df_sql.printSchema()"
   ]
  },
  {
   "cell_type": "markdown",
   "metadata": {},
   "source": [
    "#### Convert to Pandas dataframe for visualisation"
   ]
  },
  {
   "cell_type": "code",
   "execution_count": 64,
   "metadata": {},
   "outputs": [
    {
     "data": {
      "text/html": [
       "<div>\n",
       "<style scoped>\n",
       "    .dataframe tbody tr th:only-of-type {\n",
       "        vertical-align: middle;\n",
       "    }\n",
       "\n",
       "    .dataframe tbody tr th {\n",
       "        vertical-align: top;\n",
       "    }\n",
       "\n",
       "    .dataframe thead th {\n",
       "        text-align: right;\n",
       "    }\n",
       "</style>\n",
       "<table border=\"1\" class=\"dataframe\">\n",
       "  <thead>\n",
       "    <tr style=\"text-align: right;\">\n",
       "      <th></th>\n",
       "      <th>DeviceType</th>\n",
       "      <th>DeviceID</th>\n",
       "      <th>Event</th>\n",
       "      <th>Time</th>\n",
       "      <th>BAR</th>\n",
       "      <th>BAT</th>\n",
       "      <th>HDH</th>\n",
       "      <th>HDT</th>\n",
       "      <th>OPT</th>\n",
       "      <th>TMP</th>\n",
       "    </tr>\n",
       "  </thead>\n",
       "  <tbody>\n",
       "    <tr>\n",
       "      <th>0</th>\n",
       "      <td>Envirosensor</td>\n",
       "      <td>8010</td>\n",
       "      <td>event</td>\n",
       "      <td>2018-05-10 00:09:59.884305</td>\n",
       "      <td>1007.359985</td>\n",
       "      <td>34.840000</td>\n",
       "      <td>14.14</td>\n",
       "      <td>34.630001</td>\n",
       "      <td>0.48</td>\n",
       "      <td>34.467999</td>\n",
       "    </tr>\n",
       "    <tr>\n",
       "      <th>1</th>\n",
       "      <td>Envirosensor</td>\n",
       "      <td>8010</td>\n",
       "      <td>event</td>\n",
       "      <td>2018-05-10 00:10:59.893544</td>\n",
       "      <td>1007.359985</td>\n",
       "      <td>34.840000</td>\n",
       "      <td>14.14</td>\n",
       "      <td>34.610001</td>\n",
       "      <td>3.37</td>\n",
       "      <td>34.467999</td>\n",
       "    </tr>\n",
       "    <tr>\n",
       "      <th>2</th>\n",
       "      <td>Envirosensor</td>\n",
       "      <td>8010</td>\n",
       "      <td>event</td>\n",
       "      <td>2018-05-10 00:11:59.889736</td>\n",
       "      <td>1007.390015</td>\n",
       "      <td>34.840000</td>\n",
       "      <td>14.14</td>\n",
       "      <td>34.599998</td>\n",
       "      <td>3.37</td>\n",
       "      <td>34.467999</td>\n",
       "    </tr>\n",
       "    <tr>\n",
       "      <th>3</th>\n",
       "      <td>Envirosensor</td>\n",
       "      <td>8010</td>\n",
       "      <td>event</td>\n",
       "      <td>2018-05-10 00:12:59.897979</td>\n",
       "      <td>1007.390015</td>\n",
       "      <td>34.830002</td>\n",
       "      <td>14.14</td>\n",
       "      <td>34.630001</td>\n",
       "      <td>3.45</td>\n",
       "      <td>34.467999</td>\n",
       "    </tr>\n",
       "    <tr>\n",
       "      <th>4</th>\n",
       "      <td>Envirosensor</td>\n",
       "      <td>8010</td>\n",
       "      <td>event</td>\n",
       "      <td>2018-05-10 00:13:59.894967</td>\n",
       "      <td>1007.340027</td>\n",
       "      <td>34.840000</td>\n",
       "      <td>14.14</td>\n",
       "      <td>34.610001</td>\n",
       "      <td>0.48</td>\n",
       "      <td>34.467999</td>\n",
       "    </tr>\n",
       "    <tr>\n",
       "      <th>5</th>\n",
       "      <td>Envirosensor</td>\n",
       "      <td>8010</td>\n",
       "      <td>event</td>\n",
       "      <td>2018-05-10 00:14:59.902636</td>\n",
       "      <td>1007.390015</td>\n",
       "      <td>34.849998</td>\n",
       "      <td>14.14</td>\n",
       "      <td>34.610001</td>\n",
       "      <td>0.48</td>\n",
       "      <td>34.467999</td>\n",
       "    </tr>\n",
       "    <tr>\n",
       "      <th>6</th>\n",
       "      <td>Envirosensor</td>\n",
       "      <td>8010</td>\n",
       "      <td>event</td>\n",
       "      <td>2018-05-10 00:15:59.897581</td>\n",
       "      <td>1007.419983</td>\n",
       "      <td>34.849998</td>\n",
       "      <td>14.14</td>\n",
       "      <td>34.610001</td>\n",
       "      <td>3.37</td>\n",
       "      <td>34.467999</td>\n",
       "    </tr>\n",
       "    <tr>\n",
       "      <th>7</th>\n",
       "      <td>Envirosensor</td>\n",
       "      <td>8010</td>\n",
       "      <td>event</td>\n",
       "      <td>2018-05-10 00:16:59.921671</td>\n",
       "      <td>1007.440002</td>\n",
       "      <td>34.869999</td>\n",
       "      <td>14.14</td>\n",
       "      <td>34.639999</td>\n",
       "      <td>3.37</td>\n",
       "      <td>34.467999</td>\n",
       "    </tr>\n",
       "    <tr>\n",
       "      <th>8</th>\n",
       "      <td>Envirosensor</td>\n",
       "      <td>8010</td>\n",
       "      <td>event</td>\n",
       "      <td>2018-05-10 00:17:59.925353</td>\n",
       "      <td>1007.409973</td>\n",
       "      <td>34.869999</td>\n",
       "      <td>14.23</td>\n",
       "      <td>34.630001</td>\n",
       "      <td>0.00</td>\n",
       "      <td>34.500000</td>\n",
       "    </tr>\n",
       "    <tr>\n",
       "      <th>9</th>\n",
       "      <td>Envirosensor</td>\n",
       "      <td>8010</td>\n",
       "      <td>event</td>\n",
       "      <td>2018-05-10 00:18:59.932614</td>\n",
       "      <td>1007.359985</td>\n",
       "      <td>34.880001</td>\n",
       "      <td>14.23</td>\n",
       "      <td>34.639999</td>\n",
       "      <td>0.00</td>\n",
       "      <td>34.500000</td>\n",
       "    </tr>\n",
       "  </tbody>\n",
       "</table>\n",
       "</div>"
      ],
      "text/plain": [
       "     DeviceType DeviceID  Event                       Time          BAR  \\\n",
       "0  Envirosensor     8010  event 2018-05-10 00:09:59.884305  1007.359985   \n",
       "1  Envirosensor     8010  event 2018-05-10 00:10:59.893544  1007.359985   \n",
       "2  Envirosensor     8010  event 2018-05-10 00:11:59.889736  1007.390015   \n",
       "3  Envirosensor     8010  event 2018-05-10 00:12:59.897979  1007.390015   \n",
       "4  Envirosensor     8010  event 2018-05-10 00:13:59.894967  1007.340027   \n",
       "5  Envirosensor     8010  event 2018-05-10 00:14:59.902636  1007.390015   \n",
       "6  Envirosensor     8010  event 2018-05-10 00:15:59.897581  1007.419983   \n",
       "7  Envirosensor     8010  event 2018-05-10 00:16:59.921671  1007.440002   \n",
       "8  Envirosensor     8010  event 2018-05-10 00:17:59.925353  1007.409973   \n",
       "9  Envirosensor     8010  event 2018-05-10 00:18:59.932614  1007.359985   \n",
       "\n",
       "         BAT    HDH        HDT   OPT        TMP  \n",
       "0  34.840000  14.14  34.630001  0.48  34.467999  \n",
       "1  34.840000  14.14  34.610001  3.37  34.467999  \n",
       "2  34.840000  14.14  34.599998  3.37  34.467999  \n",
       "3  34.830002  14.14  34.630001  3.45  34.467999  \n",
       "4  34.840000  14.14  34.610001  0.48  34.467999  \n",
       "5  34.849998  14.14  34.610001  0.48  34.467999  \n",
       "6  34.849998  14.14  34.610001  3.37  34.467999  \n",
       "7  34.869999  14.14  34.639999  3.37  34.467999  \n",
       "8  34.869999  14.23  34.630001  0.00  34.500000  \n",
       "9  34.880001  14.23  34.639999  0.00  34.500000  "
      ]
     },
     "execution_count": 64,
     "metadata": {},
     "output_type": "execute_result"
    }
   ],
   "source": [
    "visual_df = df_sql.toPandas()\n",
    "visual_df.head(10)"
   ]
  },
  {
   "cell_type": "markdown",
   "metadata": {},
   "source": [
    "#### Plot time series with matplotlib"
   ]
  },
  {
   "cell_type": "code",
   "execution_count": 65,
   "metadata": {
    "scrolled": true
   },
   "outputs": [
    {
     "data": {
      "image/png": "[encoded data removed]",
      "text/plain": [
       "<Figure size 864x576 with 1 Axes>"
      ]
     },
     "metadata": {},
     "output_type": "display_data"
    }
   ],
   "source": [
    "#Locate and format dates for X axis \n",
    "days = mdates.DayLocator()\n",
    "hours = mdates.HourLocator()\n",
    "days_fmt = mdates.DateFormatter('%d/%m/%y')\n",
    "\n",
    "#Store current axis to layer plots\n",
    "ax = plt.gca()\n",
    "\n",
    "#Format the ticks\n",
    "ax.xaxis.set_major_locator(days)\n",
    "ax.xaxis.set_major_formatter(days_fmt)\n",
    "ax.xaxis.set_minor_locator(hours)\n",
    "ax.xaxis.set_major_locator(ticker.MultipleLocator(1))\n",
    "\n",
    "ax.xaxis.set_ticks_position('bottom')\n",
    "ax.tick_params(which='major', width=1.00)\n",
    "ax.tick_params(which='major', length=10)\n",
    "ax.tick_params(which='minor', width=0.75)\n",
    "ax.tick_params(which='minor', length=2.5)\n",
    "\n",
    "#Need method to highlight weekends instead of using hardcoded range\n",
    "#ax.axvspan(736910, 736912, facecolor='gray', edgecolor='none', alpha=.5)\n",
    "\n",
    "#visual_df.plot(kind='line',x='Time', y='BAR', ax=ax)\n",
    "visual_df.plot(kind='line',x='Time', y='BAT', ax=ax)\n",
    "visual_df.plot(kind='line',x='Time', y='HDH', ax=ax)\n",
    "visual_df.plot(kind='line',x='Time', y='HDT', ax=ax)\n",
    "#visual_df.plot(kind='line',x='Time', y='OPT', ax=ax)\n",
    "visual_df.plot(kind='line',x='Time', y='TMP', ax=ax)\n",
    "\n",
    "plt.xticks(rotation=45)\n",
    "plt.ylabel(\"Sensor Readings\")\n",
    "plt.xlabel(\"Date/Time\")\n",
    "plt.title(\"Sensor Time Series: \" + currentFile + \" / \" + 'Device: ' + currentDevice)\n",
    "\n",
    "#Save figure\n",
    "plt.savefig(r'plots/' + (currentFile) + '_' + (currentDevice) + '.png')"
   ]
  },
  {
   "cell_type": "code",
   "execution_count": null,
   "metadata": {},
   "outputs": [],
   "source": []
  }
 ],
 "metadata": {
  "kernelspec": {
   "display_name": "Python 3",
   "language": "python",
   "name": "python3"
  },
  "language_info": {
   "codemirror_mode": {
    "name": "ipython",
    "version": 3
   },
   "file_extension": ".py",
   "mimetype": "text/x-python",
   "name": "python",
   "nbconvert_exporter": "python",
   "pygments_lexer": "ipython3",
   "version": "3.7.3"
  }
 },
 "nbformat": 4,
 "nbformat_minor": 2
}
